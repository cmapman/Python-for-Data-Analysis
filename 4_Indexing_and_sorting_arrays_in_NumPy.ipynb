{
  "nbformat": 4,
  "nbformat_minor": 0,
  "metadata": {
    "colab": {
      "name": "4 Indexing and sorting arrays in NumPy.ipynb",
      "provenance": [],
      "collapsed_sections": []
    },
    "kernelspec": {
      "name": "python3",
      "display_name": "Python 3"
    }
  },
  "cells": [
    {
      "cell_type": "markdown",
      "metadata": {
        "id": "D1Ryz8dSqMDt"
      },
      "source": [
        "# Indexing and sorting arrays in NumPy"
      ]
    },
    {
      "cell_type": "markdown",
      "source": [
        "From: K.A."
      ],
      "metadata": {
        "id": "8LgAIb3HM8Qe"
      }
    },
    {
      "cell_type": "code",
      "metadata": {
        "id": "SsWjmlz6j4uZ"
      },
      "source": [
        "# of course\n",
        "import numpy as np"
      ],
      "execution_count": 1,
      "outputs": []
    },
    {
      "cell_type": "markdown",
      "metadata": {
        "id": "mG28dDXBS-vt"
      },
      "source": [
        "##Array indexing"
      ]
    },
    {
      "cell_type": "markdown",
      "metadata": {
        "id": "gY7PuuY6Mo8Z"
      },
      "source": [
        "In NumPy, as in pure Python, you can use numbers to access items. **Indexing starts with 0**. Negative indexes can be used for indexing."
      ]
    },
    {
      "cell_type": "code",
      "metadata": {
        "id": "Tt4NCvaeUTjZ",
        "colab": {
          "base_uri": "https://localhost:8080/"
        },
        "outputId": "c1a05dcc-09fd-4ef6-b62e-ec704a6e4f7e"
      },
      "source": [
        "a = np.arange(7)\n",
        "print('Initial array\\n',a)\n",
        "print('Result:', a[3])\n",
        "print('Result with a negative index:', a[-3])"
      ],
      "execution_count": 4,
      "outputs": [
        {
          "output_type": "stream",
          "name": "stdout",
          "text": [
            "Initial array\n",
            " [0 1 2 3 4 5 6]\n",
            "Result: 3\n",
            "Result with a negative index: 4\n"
          ]
        }
      ]
    },
    {
      "cell_type": "markdown",
      "metadata": {
        "id": "jMFRRxwkOM6M"
      },
      "source": [
        "But, unlike standard Python, you can access elements of two-dimensional arrays by writing the element numbers separated by commas."
      ]
    },
    {
      "cell_type": "code",
      "metadata": {
        "id": "IATbd-UlOOeP",
        "colab": {
          "base_uri": "https://localhost:8080/"
        },
        "outputId": "32995482-0fc0-4343-e749-0bd3ba5f355d"
      },
      "source": [
        "b = np.arange(9).reshape(3, 3)\n",
        "print('Initial array\\n', b)\n",
        "print('Result:', b[2, 0])\n",
        "print('Result with a negative index:', b[-2, 1])"
      ],
      "execution_count": 5,
      "outputs": [
        {
          "output_type": "stream",
          "name": "stdout",
          "text": [
            "Initial array\n",
            " [[0 1 2]\n",
            " [3 4 5]\n",
            " [6 7 8]]\n",
            "Result: 6\n",
            "Result with a negative index: 4\n"
          ]
        }
      ]
    },
    {
      "cell_type": "markdown",
      "metadata": {
        "id": "5e9G27-kQK02"
      },
      "source": [
        "The same indexing that was used before is used to change values."
      ]
    },
    {
      "cell_type": "code",
      "metadata": {
        "id": "ADNy3RP_SHZM",
        "colab": {
          "base_uri": "https://localhost:8080/"
        },
        "outputId": "87ce6771-af08-44f1-9a56-0522e2d30959"
      },
      "source": [
        "print('For one-dimensional array:\\n', a)\n",
        "a[0] = 9\n",
        "print('\\n', a)\n",
        "print('\\nFor two-dimensional arrays:\\n', b)\n",
        "b[1, 1] = 9\n",
        "print('\\n',b)"
      ],
      "execution_count": 6,
      "outputs": [
        {
          "output_type": "stream",
          "name": "stdout",
          "text": [
            "For one-dimensional array:\n",
            " [0 1 2 3 4 5 6]\n",
            "\n",
            " [9 1 2 3 4 5 6]\n",
            "\n",
            "For two-dimensional arrays:\n",
            " [[0 1 2]\n",
            " [3 4 5]\n",
            " [6 7 8]]\n",
            "\n",
            " [[0 1 2]\n",
            " [3 9 5]\n",
            " [6 7 8]]\n"
          ]
        }
      ]
    },
    {
      "cell_type": "markdown",
      "metadata": {
        "id": "pqjKa3FhZ0_Y"
      },
      "source": [
        "But unlike Python lists, NumPy arrays have a fixed data type."
      ]
    },
    {
      "cell_type": "code",
      "metadata": {
        "id": "vsX5-oxMzoCh",
        "colab": {
          "base_uri": "https://localhost:8080/"
        },
        "outputId": "d899faac-0aba-46b7-f8a0-d38aa0ae27e4"
      },
      "source": [
        "print('For one-dimensional array:\\n', a)\n",
        "a[0] = 2.72\n",
        "print('\\n', a)"
      ],
      "execution_count": 7,
      "outputs": [
        {
          "output_type": "stream",
          "name": "stdout",
          "text": [
            "For one-dimensional array:\n",
            " [9 1 2 3 4 5 6]\n",
            "\n",
            " [2 1 2 3 4 5 6]\n"
          ]
        }
      ]
    },
    {
      "cell_type": "markdown",
      "metadata": {
        "id": "VZzVueFPTCg7"
      },
      "source": [
        "##Array sorting"
      ]
    },
    {
      "cell_type": "markdown",
      "metadata": {
        "id": "3kP52WeXTK8N"
      },
      "source": [
        "To sort arrays, the sort function is used with the axis parameter, which is used to determine the type of sorting. For example, for a two-dimensional array, \"0\" means sorting by columns, and \"1\" - by rows."
      ]
    },
    {
      "cell_type": "code",
      "metadata": {
        "id": "Gc8104_cTTJl",
        "colab": {
          "base_uri": "https://localhost:8080/"
        },
        "outputId": "42bc7e98-4eb8-4dcb-d191-f68e85c8c9a8"
      },
      "source": [
        "a = np.array([1, 3, 5, 4, 7, 13])\n",
        "print('Initial array - ', a)\n",
        "a = np.sort(a)\n",
        "print('Sorted array - ', a)\n",
        "b = np.random.randint(0, 100, size = (5, 5))\n",
        "print(b)\n",
        "print('Sorting by columns - ', np.sort(b, axis = 0))\n",
        "print('Sorting by rows - ', np.sort(b, axis = 1))"
      ],
      "execution_count": 8,
      "outputs": [
        {
          "output_type": "stream",
          "name": "stdout",
          "text": [
            "Initial array -  [ 1  3  5  4  7 13]\n",
            "Sorted array -  [ 1  3  4  5  7 13]\n",
            "[[91 55  5 84 79]\n",
            " [35 86 27 79 94]\n",
            " [35 55 41 92  9]\n",
            " [ 9 65 25 40 33]\n",
            " [88 76 39 71  4]]\n",
            "Sorting by columns -  [[ 9 55  5 40  4]\n",
            " [35 55 25 71  9]\n",
            " [35 65 27 79 33]\n",
            " [88 76 39 84 79]\n",
            " [91 86 41 92 94]]\n",
            "Sorting by rows -  [[ 5 55 79 84 91]\n",
            " [27 35 79 86 94]\n",
            " [ 9 35 41 55 92]\n",
            " [ 9 25 33 40 65]\n",
            " [ 4 39 71 76 88]]\n"
          ]
        }
      ]
    },
    {
      "cell_type": "markdown",
      "metadata": {
        "id": "l6mKOb3MTSat"
      },
      "source": [
        "The function lexsort performs reverse sorting based on the specified keys (lexicographic sorting). "
      ]
    },
    {
      "cell_type": "code",
      "metadata": {
        "id": "-Q5WwGZHCdvW",
        "colab": {
          "base_uri": "https://localhost:8080/"
        },
        "outputId": "977dee6f-3dfb-468d-b3a0-eda5af8d597d"
      },
      "source": [
        "a = np.array([1, 5, 4, 2, 17, 3])\n",
        "b = np.array([3, 6, 3, 1, 6, 7])\n",
        "c = np.lexsort((a, b))\n",
        "[(a[i], b[i]) for i in c]"
      ],
      "execution_count": 9,
      "outputs": [
        {
          "output_type": "execute_result",
          "data": {
            "text/plain": [
              "[(2, 1), (1, 3), (4, 3), (5, 6), (17, 6), (3, 7)]"
            ]
          },
          "metadata": {},
          "execution_count": 9
        }
      ]
    }
  ]
}