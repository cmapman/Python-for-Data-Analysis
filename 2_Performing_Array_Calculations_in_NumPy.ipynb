{
  "nbformat": 4,
  "nbformat_minor": 0,
  "metadata": {
    "colab": {
      "name": "2 Performing Array Calculations in NumPy.ipynb",
      "provenance": [],
      "collapsed_sections": []
    },
    "kernelspec": {
      "name": "python3",
      "display_name": "Python 3"
    }
  },
  "cells": [
    {
      "cell_type": "markdown",
      "metadata": {
        "id": "MZiQufcv8-R6"
      },
      "source": [
        "# Performing Array Calculations in NumPy"
      ]
    },
    {
      "cell_type": "markdown",
      "metadata": {
        "id": "rIXnMAbx9JUW"
      },
      "source": [
        "From: K.A."
      ]
    },
    {
      "cell_type": "markdown",
      "metadata": {
        "id": "zntiuFx4QGV8"
      },
      "source": [
        "Performing calculations on arrays in the NumPy library can be very fast and very slow. The key to speeding them up is to use vectorized operations, usually implemented through Python universal functions (ufuncs). NumPy provides basic methods for manipulating large arrays and matrices.\n",
        "To get started\n",
        "\n",
        "1. You need to import the library into python:\n",
        "\n",
        "\n"
      ]
    },
    {
      "cell_type": "code",
      "metadata": {
        "id": "LN9ujdfoSNgO"
      },
      "source": [
        "import numpy as np"
      ],
      "execution_count": 1,
      "outputs": []
    },
    {
      "cell_type": "markdown",
      "metadata": {
        "id": "Guh5yzqiMh3c"
      },
      "source": [
        "2. Create an array"
      ]
    },
    {
      "cell_type": "code",
      "metadata": {
        "id": "dyImILQUSS66"
      },
      "source": [
        "x = np.array([1,2,3])"
      ],
      "execution_count": 2,
      "outputs": []
    },
    {
      "cell_type": "markdown",
      "metadata": {
        "id": "-d864pnPNSOA"
      },
      "source": [
        "## Universal functions\n",
        "The NumPy library provides a convenient interface to a compiled procedure with static typing for many types of operations . It is known as a vectorized operation. It simply requires you to perform an operation on an array, which is then applied to each of its elements. The vectorized approach is designed to carry the loop to the compiled layer underlying the NumPy library, which provides much better performance.\n",
        "\n",
        "There are two kinds of universal functions: unary universal functions, with one argument, and binary functions, with two arguments. We will look at examples of both types of functions."
      ]
    },
    {
      "cell_type": "markdown",
      "metadata": {
        "id": "gT_BWqZVQe8U"
      },
      "source": [
        "### Arithmetic functions over arrays\n",
        "The universal functions in the NumPy library are very easy to use because they use the native Python arithmetic operators. You can perform the usual addition, subtraction, multiplication, and division:"
      ]
    },
    {
      "cell_type": "code",
      "metadata": {
        "id": "LBN1gDyZQjCv",
        "colab": {
          "base_uri": "https://localhost:8080/"
        },
        "outputId": "b63c93d9-c8b6-4600-bb91-b083acdf35d5"
      },
      "source": [
        "x = np.array([1,2,3])     \n",
        "print(\"x     =\", x)       \n",
        "print(\"x + 5 =\", x + 5)       \n",
        "print(\"x - 5 =\", x - 5)       \n",
        "print(\"x * 2 =\", x * 2)       \n",
        "print(\"x / 2 =\", x / 2)       \n",
        "print(\"x // 2 =\", x // 2) #division with rounding down"
      ],
      "execution_count": 3,
      "outputs": [
        {
          "output_type": "stream",
          "name": "stdout",
          "text": [
            "x     = [1 2 3]\n",
            "x + 5 = [6 7 8]\n",
            "x - 5 = [-4 -3 -2]\n",
            "x * 2 = [2 4 6]\n",
            "x / 2 = [0.5 1.  1.5]\n",
            "x // 2 = [0 1 1]\n"
          ]
        }
      ]
    },
    {
      "cell_type": "markdown",
      "metadata": {
        "id": "-TAF0jUPO0He"
      },
      "source": [
        "There is also a unary universal function for the sign change operation, the ** operator for multiplication, and the % operator for division by modulo:"
      ]
    },
    {
      "cell_type": "code",
      "metadata": {
        "id": "jyqK4kvKO1lu",
        "colab": {
          "base_uri": "https://localhost:8080/"
        },
        "outputId": "cfb2c858-df7a-457c-b5e8-57d1bc880eda"
      },
      "source": [
        "x = np.array([1,2,3])\n",
        "print(\"-x     = \", -x)       \n",
        "print(\"x ** 2 = \", x ** 2)       \n",
        "print(\"x % 2  = \", x % 2)"
      ],
      "execution_count": 4,
      "outputs": [
        {
          "output_type": "stream",
          "name": "stdout",
          "text": [
            "-x     =  [-1 -2 -3]\n",
            "x ** 2 =  [1 4 9]\n",
            "x % 2  =  [1 0 1]\n"
          ]
        }
      ]
    },
    {
      "cell_type": "markdown",
      "metadata": {
        "id": "qu72bzGtPM0C"
      },
      "source": [
        "In addition, these operations can be combined in any way, respecting the standard priority of operations:"
      ]
    },
    {
      "cell_type": "code",
      "metadata": {
        "id": "64et-58DPNd5",
        "colab": {
          "base_uri": "https://localhost:8080/"
        },
        "outputId": "64231d79-a760-46ed-ed6e-d6072b4b60fd"
      },
      "source": [
        "x = np.array([1,2,3])\n",
        "print(-(0.5*x + 1) ** 2)"
      ],
      "execution_count": 5,
      "outputs": [
        {
          "output_type": "stream",
          "name": "stdout",
          "text": [
            "[-2.25 -4.   -6.25]\n"
          ]
        }
      ]
    },
    {
      "cell_type": "markdown",
      "metadata": {
        "id": "TAAi_-ZRMVlm"
      },
      "source": [
        "### Example of using arithmetic functions"
      ]
    },
    {
      "cell_type": "markdown",
      "metadata": {
        "id": "PG_gSwTfMfWQ"
      },
      "source": [
        "Create two 2D arrays"
      ]
    },
    {
      "cell_type": "code",
      "metadata": {
        "id": "CIbhogm_MjHW"
      },
      "source": [
        "a = np.array([[2,5,1],[3,7,5],[1,9,9]])\n",
        "b = np.array([[4,1,1],[3,9,4],[3,2,5]])"
      ],
      "execution_count": 8,
      "outputs": []
    },
    {
      "cell_type": "markdown",
      "metadata": {
        "id": "V5j5rw3BNLsp"
      },
      "source": [
        "We use the standard arithmetic functions on the two matrices a and b"
      ]
    },
    {
      "cell_type": "code",
      "metadata": {
        "id": "ZA60s2VTNS06",
        "colab": {
          "base_uri": "https://localhost:8080/"
        },
        "outputId": "ddbcfdc7-038a-41e8-9232-4542cc2cba5d"
      },
      "source": [
        "print(\"a + b = \\n\", a + b)       \n",
        "print(\"a - b = \\n\", a - b)       \n",
        "print(\"a * b = \\n\", a * b)       \n",
        "print(\"a / b = \\n\", a / b)"
      ],
      "execution_count": 9,
      "outputs": [
        {
          "output_type": "stream",
          "name": "stdout",
          "text": [
            "a + b = \n",
            " [[ 6  6  2]\n",
            " [ 6 16  9]\n",
            " [ 4 11 14]]\n",
            "a - b = \n",
            " [[-2  4  0]\n",
            " [ 0 -2  1]\n",
            " [-2  7  4]]\n",
            "a * b = \n",
            " [[ 8  5  1]\n",
            " [ 9 63 20]\n",
            " [ 3 18 45]]\n",
            "a / b = \n",
            " [[0.5        5.         1.        ]\n",
            " [1.         0.77777778 1.25      ]\n",
            " [0.33333333 4.5        1.8       ]]\n"
          ]
        }
      ]
    },
    {
      "cell_type": "markdown",
      "metadata": {
        "id": "JMTBdBhkRENF"
      },
      "source": [
        "### **Absolute value**\n"
      ]
    },
    {
      "cell_type": "code",
      "metadata": {
        "id": "dRSaL22RRHmT",
        "colab": {
          "base_uri": "https://localhost:8080/"
        },
        "outputId": "7d640ddf-ea79-4344-8f4e-9290490424c6"
      },
      "source": [
        "x = np.array([-2, -1, 0, 1, 2])        \n",
        "abs(x)"
      ],
      "execution_count": 10,
      "outputs": [
        {
          "output_type": "execute_result",
          "data": {
            "text/plain": [
              "array([2, 1, 0, 1, 2])"
            ]
          },
          "metadata": {},
          "execution_count": 10
        }
      ]
    },
    {
      "cell_type": "markdown",
      "metadata": {
        "id": "2wVtv7lJRV6h"
      },
      "source": [
        "This universal function can also handle complex values by returning their modulus:"
      ]
    },
    {
      "cell_type": "code",
      "metadata": {
        "id": "pXR0atzNRW33",
        "colab": {
          "base_uri": "https://localhost:8080/"
        },
        "outputId": "7a411ce4-0afd-414c-a3e3-5f7bfa3f9ec2"
      },
      "source": [
        "x = np.array([3 - 4j, 4 - 3j, 2 + 0j, 0 + 1j])\n",
        "np.abs(x)"
      ],
      "execution_count": 11,
      "outputs": [
        {
          "output_type": "execute_result",
          "data": {
            "text/plain": [
              "array([5., 5., 2., 1.])"
            ]
          },
          "metadata": {},
          "execution_count": 11
        }
      ]
    },
    {
      "cell_type": "markdown",
      "metadata": {
        "id": "pTCPyJ4vS9Pn"
      },
      "source": [
        "### **Trigonometric functions**\n",
        "The NumPy library provides many universal functions, some of the most important are trigonometric functions."
      ]
    },
    {
      "cell_type": "code",
      "metadata": {
        "id": "X-MUZcYsTIo_",
        "colab": {
          "base_uri": "https://localhost:8080/"
        },
        "outputId": "e2ede304-59a2-4f69-df5b-c7080dc5286e"
      },
      "source": [
        "theta = np.linspace(0, np.pi, 3)\n",
        "print(\"theta      = \", theta)        \n",
        "print(\"sin(theta) = \", np.sin(theta))        \n",
        "print(\"cos(theta) = \", np.cos(theta))        \n",
        "print(\"tan(theta) = \", np.tan(theta))"
      ],
      "execution_count": 12,
      "outputs": [
        {
          "output_type": "stream",
          "name": "stdout",
          "text": [
            "theta      =  [0.         1.57079633 3.14159265]\n",
            "sin(theta) =  [0.0000000e+00 1.0000000e+00 1.2246468e-16]\n",
            "cos(theta) =  [ 1.000000e+00  6.123234e-17 -1.000000e+00]\n",
            "tan(theta) =  [ 0.00000000e+00  1.63312394e+16 -1.22464680e-16]\n"
          ]
        }
      ]
    },
    {
      "cell_type": "markdown",
      "metadata": {
        "id": "pXWLZREcTWG0"
      },
      "source": [
        "Inverse trigonometric functions are also available for use:"
      ]
    },
    {
      "cell_type": "code",
      "metadata": {
        "id": "UvO3OTYdTXy-",
        "colab": {
          "base_uri": "https://localhost:8080/"
        },
        "outputId": "8a15423e-a622-4717-ebf9-158965311f45"
      },
      "source": [
        "x = [-1, 0, 1]        \n",
        "print(\"x         = \", x)        \n",
        "print(\"arcsin(x) = \", np.arcsin(x))        \n",
        "print(\"arccos(x) = \", np.arccos(x))        \n",
        "print(\"arctan(x) = \", np.arctan(x))"
      ],
      "execution_count": 13,
      "outputs": [
        {
          "output_type": "stream",
          "name": "stdout",
          "text": [
            "x         =  [-1, 0, 1]\n",
            "arcsin(x) =  [-1.57079633  0.          1.57079633]\n",
            "arccos(x) =  [3.14159265 1.57079633 0.        ]\n",
            "arctan(x) =  [-0.78539816  0.          0.78539816]\n"
          ]
        }
      ]
    },
    {
      "cell_type": "markdown",
      "metadata": {
        "id": "GrhqAz89TtQK"
      },
      "source": [
        "### **Exponential functions and logarithms**\n",
        "Exponential functions are another common type of operation available in NumPy:"
      ]
    },
    {
      "cell_type": "code",
      "metadata": {
        "id": "O-RVRrmATymW",
        "colab": {
          "base_uri": "https://localhost:8080/"
        },
        "outputId": "d09714bc-09c3-4e03-e3c3-8cd377e2cfae"
      },
      "source": [
        "x = [1, 2, 3]        \n",
        "print(\"x     =\", x)        \n",
        "print(\"e^x   =\", np.exp(x))        \n",
        "print(\"2^x   =\", np.exp2(x))        \n",
        "print(\"3^x   =\", np.power(3, x))"
      ],
      "execution_count": 14,
      "outputs": [
        {
          "output_type": "stream",
          "name": "stdout",
          "text": [
            "x     = [1, 2, 3]\n",
            "e^x   = [ 2.71828183  7.3890561  20.08553692]\n",
            "2^x   = [2. 4. 8.]\n",
            "3^x   = [ 3  9 27]\n"
          ]
        }
      ]
    },
    {
      "cell_type": "markdown",
      "metadata": {
        "id": "LWztB46qT_Kr"
      },
      "source": [
        "Logarithms"
      ]
    },
    {
      "cell_type": "code",
      "metadata": {
        "id": "hXZc3iW7T_3d",
        "colab": {
          "base_uri": "https://localhost:8080/"
        },
        "outputId": "7622572e-9c17-4c9f-c372-737d1cd2bdf5"
      },
      "source": [
        "x = [1, 2, 4, 10]        \n",
        "print(\"x        =\", x)        \n",
        "print(\"ln(x)    =\", np.log(x))        \n",
        "print(\"log2(x)  =\", np.log2(x))        \n",
        "print(\"log10(x) =\", np.log10(x))"
      ],
      "execution_count": 15,
      "outputs": [
        {
          "output_type": "stream",
          "name": "stdout",
          "text": [
            "x        = [1, 2, 4, 10]\n",
            "ln(x)    = [0.         0.69314718 1.38629436 2.30258509]\n",
            "log2(x)  = [0.         1.         2.         3.32192809]\n",
            "log10(x) = [0.         0.30103    0.60205999 1.        ]\n"
          ]
        }
      ]
    },
    {
      "cell_type": "markdown",
      "metadata": {
        "id": "q7mZqlK7U8aH"
      },
      "source": [
        "There are some special versions of functions:"
      ]
    },
    {
      "cell_type": "code",
      "metadata": {
        "id": "3zAmOY7uU9Ck",
        "colab": {
          "base_uri": "https://localhost:8080/"
        },
        "outputId": "06519d07-48ee-4688-f005-748bd366aaa0"
      },
      "source": [
        "x = [0, 0.001, 0.01, 0.1]        \n",
        "print(\"exp(x) - 1 =\", np.expm1(x))        \n",
        "print(\"log(1 + x) =\", np.log1p(x))"
      ],
      "execution_count": 16,
      "outputs": [
        {
          "output_type": "stream",
          "name": "stdout",
          "text": [
            "exp(x) - 1 = [0.         0.0010005  0.01005017 0.10517092]\n",
            "log(1 + x) = [0.         0.0009995  0.00995033 0.09531018]\n"
          ]
        }
      ]
    },
    {
      "cell_type": "markdown",
      "metadata": {
        "id": "vVkHriYGVB6f"
      },
      "source": [
        "For very small values of the elements of the vector x, these functions return much more accurate results than the usual functions np.log and np.exp."
      ]
    },
    {
      "cell_type": "markdown",
      "metadata": {
        "id": "2ltmpHEYVHrj"
      },
      "source": [
        "## Advanced features of universal functions\n"
      ]
    },
    {
      "cell_type": "markdown",
      "metadata": {
        "id": "eEn6Ns5xV4Lo"
      },
      "source": [
        "### Specifying an array to output the result\n",
        "For large calculations, it is convenient to specify an array in which to store the result of the calculation. Instead of creating a temporary array, you can write the results of calculations directly to the memory location you need. You can do this for any universal function with the ***out*** argument:"
      ]
    },
    {
      "cell_type": "code",
      "metadata": {
        "id": "3JzMUWMWV92d",
        "colab": {
          "base_uri": "https://localhost:8080/"
        },
        "outputId": "ee108775-f239-46af-e054-c69e751e6085"
      },
      "source": [
        "x = np.arange(5)        \n",
        "y = np.empty(5)        \n",
        "np.multiply(x, 10, out=y)        \n",
        "print(y)"
      ],
      "execution_count": 17,
      "outputs": [
        {
          "output_type": "stream",
          "name": "stdout",
          "text": [
            "[ 0. 10. 20. 30. 40.]\n"
          ]
        }
      ]
    },
    {
      "cell_type": "markdown",
      "metadata": {
        "id": "MHY9e17tWP7g"
      },
      "source": [
        "This feature can be used in combination with array representations. For example, you can write calculation results to every second element of a given array:"
      ]
    },
    {
      "cell_type": "code",
      "metadata": {
        "id": "jkd6TN0TWQvb",
        "colab": {
          "base_uri": "https://localhost:8080/"
        },
        "outputId": "fc8758b4-6fdf-4d4a-c972-da781da2152e"
      },
      "source": [
        "y = np.zeros(10)\n",
        "x = np.arange(5)         \n",
        "np.power(2, x, out=y[::2])        \n",
        "print(y)"
      ],
      "execution_count": 18,
      "outputs": [
        {
          "output_type": "stream",
          "name": "stdout",
          "text": [
            "[ 1.  0.  2.  0.  4.  0.  8.  0. 16.  0.]\n"
          ]
        }
      ]
    },
    {
      "cell_type": "markdown",
      "metadata": {
        "id": "Q9chUbYXWnOh"
      },
      "source": [
        "If we wrote y[::2] = 2 ** x instead, we would create a temporary array to store the results of the 2 ** x operation and then copy those values into the y array. For such a small amount of computation there is not much difference, but for very large arrays the memory savings from careful use of the out argument can be significant."
      ]
    },
    {
      "cell_type": "code",
      "metadata": {
        "id": "8bA1cIZmZEnq",
        "colab": {
          "base_uri": "https://localhost:8080/"
        },
        "outputId": "8a73ec42-244e-46a5-9e20-8dcc312ce47a"
      },
      "source": [
        "# we can also use the possibilities of obtaining cumulative values\n",
        "x = np.arange(1, 6)        \n",
        "np.add.reduce(x)"
      ],
      "execution_count": 19,
      "outputs": [
        {
          "output_type": "execute_result",
          "data": {
            "text/plain": [
              "15"
            ]
          },
          "metadata": {},
          "execution_count": 19
        }
      ]
    },
    {
      "cell_type": "code",
      "metadata": {
        "id": "njla4H_taDGY",
        "colab": {
          "base_uri": "https://localhost:8080/"
        },
        "outputId": "d7bd7a47-abab-49e3-b104-37e755bb1877"
      },
      "source": [
        "x = np.arange(1, 6)\n",
        "np.multiply.reduce(x)"
      ],
      "execution_count": 20,
      "outputs": [
        {
          "output_type": "execute_result",
          "data": {
            "text/plain": [
              "120"
            ]
          },
          "metadata": {},
          "execution_count": 20
        }
      ]
    },
    {
      "cell_type": "markdown",
      "metadata": {
        "id": "3TwUuBahaNqN"
      },
      "source": [
        "## Vector products"
      ]
    },
    {
      "cell_type": "markdown",
      "metadata": {
        "id": "UAhu6TRKacaS"
      },
      "source": [
        "All universal functions can output the result of applying the corresponding operation to all pairs of two arguments using the outer method. This makes it possible to create, for example, a multiplication table with one line of code:"
      ]
    },
    {
      "cell_type": "code",
      "metadata": {
        "id": "bn2-AXe1ac-C",
        "colab": {
          "base_uri": "https://localhost:8080/"
        },
        "outputId": "101721b1-b80b-4b26-e8d3-944b2af9e1f5"
      },
      "source": [
        "x = np.arange(1, 6)        \n",
        "np.multiply.outer(x, x)"
      ],
      "execution_count": 21,
      "outputs": [
        {
          "output_type": "execute_result",
          "data": {
            "text/plain": [
              "array([[ 1,  2,  3,  4,  5],\n",
              "       [ 2,  4,  6,  8, 10],\n",
              "       [ 3,  6,  9, 12, 15],\n",
              "       [ 4,  8, 12, 16, 20],\n",
              "       [ 5, 10, 15, 20, 25]])"
            ]
          },
          "metadata": {},
          "execution_count": 21
        }
      ]
    },
    {
      "cell_type": "markdown",
      "metadata": {
        "id": "LtNL5Kkmashb"
      },
      "source": [
        "## Aggregation: minimum, maximum, average"
      ]
    },
    {
      "cell_type": "markdown",
      "metadata": {
        "id": "cIj9L62wavBf"
      },
      "source": [
        "Very often when working with large amounts of data, the first step is to calculate summary statistics for that data. NumPy has aggregation functions for working with arrays."
      ]
    },
    {
      "cell_type": "markdown",
      "metadata": {
        "id": "wm6CNUJXa7OC"
      },
      "source": [
        "### Summing values from an array"
      ]
    },
    {
      "cell_type": "markdown",
      "metadata": {
        "id": "TnMN9OQva8fo"
      },
      "source": [
        "As an example, consider calculating the sum of array values. In \"pure\" Python, this can be done using the built-in sum function:"
      ]
    },
    {
      "cell_type": "code",
      "metadata": {
        "id": "JnlG0fQba-SH",
        "colab": {
          "base_uri": "https://localhost:8080/"
        },
        "outputId": "0895b367-219d-4d39-8dab-cedae43b43c2"
      },
      "source": [
        "L = np.random.random(100)       \n",
        "sum(L)"
      ],
      "execution_count": 22,
      "outputs": [
        {
          "output_type": "execute_result",
          "data": {
            "text/plain": [
              "50.759315020996425"
            ]
          },
          "metadata": {},
          "execution_count": 22
        }
      ]
    },
    {
      "cell_type": "markdown",
      "metadata": {
        "id": "XGu1i0AubI0Z"
      },
      "source": [
        "Let's compare with the similar function of the Numpy library"
      ]
    },
    {
      "cell_type": "code",
      "metadata": {
        "id": "PJOc5JqsbLxG",
        "colab": {
          "base_uri": "https://localhost:8080/"
        },
        "outputId": "e091c00e-2c66-4c2c-9524-9badde7e4518"
      },
      "source": [
        "big_array = np.random.rand(1000000)       \n",
        "%timeit sum(big_array)       \n",
        "%timeit np.sum(big_array)"
      ],
      "execution_count": 23,
      "outputs": [
        {
          "output_type": "stream",
          "name": "stdout",
          "text": [
            "10 loops, best of 5: 84 ms per loop\n",
            "1000 loops, best of 5: 342 µs per loop\n"
          ]
        }
      ]
    },
    {
      "cell_type": "markdown",
      "metadata": {
        "id": "Mx7KGTstbdtR"
      },
      "source": [
        "The functions sum and np.sum are not identical."
      ]
    },
    {
      "cell_type": "markdown",
      "metadata": {
        "id": "yH9keCqybnIS"
      },
      "source": [
        "### **Min and Max**"
      ]
    },
    {
      "cell_type": "markdown",
      "metadata": {
        "id": "gAgjDLhcboVo"
      },
      "source": [
        "In \"pure\" Python, there are built-in functions min and max used to calculate the minimum and maximum values of any given array:"
      ]
    },
    {
      "cell_type": "code",
      "metadata": {
        "id": "mQJfGE2qbrIJ",
        "colab": {
          "base_uri": "https://localhost:8080/"
        },
        "outputId": "8f33ad7e-2fba-4ab5-d1cd-f5497e623fc5"
      },
      "source": [
        "big_array = np.random.rand(1000000)\n",
        "min(big_array), max(big_array)"
      ],
      "execution_count": 24,
      "outputs": [
        {
          "output_type": "execute_result",
          "data": {
            "text/plain": [
              "(1.0654156229472633e-06, 0.9999969650848898)"
            ]
          },
          "metadata": {},
          "execution_count": 24
        }
      ]
    },
    {
      "cell_type": "markdown",
      "metadata": {
        "id": "OpvW0I5LbzmF"
      },
      "source": [
        "The syntax of the corresponding functions from the NumPy library is similar, and they also work much faster:"
      ]
    },
    {
      "cell_type": "code",
      "metadata": {
        "id": "rsE8ImoQb1Vr",
        "colab": {
          "base_uri": "https://localhost:8080/"
        },
        "outputId": "21f63550-cd26-499e-b9c8-1f91afda7f62"
      },
      "source": [
        "big_array = np.random.rand(1000000)\n",
        "np.min(big_array), np.max(big_array)"
      ],
      "execution_count": 25,
      "outputs": [
        {
          "output_type": "execute_result",
          "data": {
            "text/plain": [
              "(6.22653164583653e-08, 0.9999997582474399)"
            ]
          },
          "metadata": {},
          "execution_count": 25
        }
      ]
    },
    {
      "cell_type": "code",
      "metadata": {
        "id": "0u8FIeBBb8nh",
        "colab": {
          "base_uri": "https://localhost:8080/"
        },
        "outputId": "66c0c84e-ee1e-46a0-e033-84ef5cdb1f87"
      },
      "source": [
        "%timeit min(big_array)       \n",
        "%timeit np.min(big_array)"
      ],
      "execution_count": 26,
      "outputs": [
        {
          "output_type": "stream",
          "name": "stdout",
          "text": [
            "10 loops, best of 5: 60 ms per loop\n",
            "1000 loops, best of 5: 413 µs per loop\n"
          ]
        }
      ]
    },
    {
      "cell_type": "markdown",
      "metadata": {
        "id": "3wSv_HeycBxV"
      },
      "source": [
        "There is a short notation of the operation"
      ]
    },
    {
      "cell_type": "code",
      "metadata": {
        "id": "H7iejrXvcDi_",
        "colab": {
          "base_uri": "https://localhost:8080/"
        },
        "outputId": "f175c832-0da0-416c-e3bc-77226650afa2"
      },
      "source": [
        "print(big_array.min(), big_array.max(), big_array.sum())"
      ],
      "execution_count": 27,
      "outputs": [
        {
          "output_type": "stream",
          "name": "stdout",
          "text": [
            "6.22653164583653e-08 0.9999997582474399 499929.5077814219\n"
          ]
        }
      ]
    },
    {
      "cell_type": "markdown",
      "metadata": {
        "id": "xFk47GqIln54"
      },
      "source": [
        "### **The case of multidimensionality**"
      ]
    },
    {
      "cell_type": "markdown",
      "metadata": {
        "id": "CL26UrA_ltPH"
      },
      "source": [
        "Aggregation by column or row is one of the frequently used types of aggregation operations."
      ]
    },
    {
      "cell_type": "code",
      "metadata": {
        "id": "pKnXc96PluR2",
        "colab": {
          "base_uri": "https://localhost:8080/"
        },
        "outputId": "77646947-4496-48a0-ab35-3bf192fb2f5d"
      },
      "source": [
        "M = np.random.random((3, 4))       \n",
        "print(M)"
      ],
      "execution_count": 28,
      "outputs": [
        {
          "output_type": "stream",
          "name": "stdout",
          "text": [
            "[[0.68210579 0.10031222 0.86708552 0.74715353]\n",
            " [0.20032658 0.43263162 0.46879247 0.72008642]\n",
            " [0.55280628 0.69362647 0.63984686 0.19136443]]\n"
          ]
        }
      ]
    },
    {
      "cell_type": "markdown",
      "metadata": {
        "id": "WAQUUQnZlyUf"
      },
      "source": [
        "By default, all aggregation functions of the NumPy library return a summary of the entire array:"
      ]
    },
    {
      "cell_type": "code",
      "metadata": {
        "id": "LKYgwVGllzYZ",
        "colab": {
          "base_uri": "https://localhost:8080/"
        },
        "outputId": "7e7da8c8-dbdf-40a4-d2ba-40d8600eec69"
      },
      "source": [
        "M.sum()"
      ],
      "execution_count": 29,
      "outputs": [
        {
          "output_type": "execute_result",
          "data": {
            "text/plain": [
              "6.296138183533368"
            ]
          },
          "metadata": {},
          "execution_count": 29
        }
      ]
    },
    {
      "cell_type": "markdown",
      "metadata": {
        "id": "YCOxD6Jjl2Ii"
      },
      "source": [
        "But aggregation functions take as input an additional argument that allows you to specify the axis along which the aggregate value is calculated. For example, you can find the minimum value of each column by specifying axis=0:"
      ]
    },
    {
      "cell_type": "code",
      "metadata": {
        "id": "N6pQZa3cl3vD",
        "colab": {
          "base_uri": "https://localhost:8080/"
        },
        "outputId": "9675b4f6-7dd1-4b2c-9a51-9d807139164a"
      },
      "source": [
        "M.min(axis=0)"
      ],
      "execution_count": 32,
      "outputs": [
        {
          "output_type": "execute_result",
          "data": {
            "text/plain": [
              "array([0.20032658, 0.10031222, 0.46879247, 0.19136443])"
            ]
          },
          "metadata": {},
          "execution_count": 32
        }
      ]
    },
    {
      "cell_type": "code",
      "metadata": {
        "id": "GOM_6l95l7ST",
        "colab": {
          "base_uri": "https://localhost:8080/"
        },
        "outputId": "56e8c8e0-1fa8-42df-b029-6c46e19875ca"
      },
      "source": [
        "# similarly\n",
        "M.max(axis=1)"
      ],
      "execution_count": 33,
      "outputs": [
        {
          "output_type": "execute_result",
          "data": {
            "text/plain": [
              "array([0.86708552, 0.72008642, 0.69362647])"
            ]
          },
          "metadata": {},
          "execution_count": 33
        }
      ]
    }
  ]
}