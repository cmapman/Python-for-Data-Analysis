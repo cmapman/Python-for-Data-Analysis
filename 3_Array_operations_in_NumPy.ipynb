{
  "nbformat": 4,
  "nbformat_minor": 0,
  "metadata": {
    "colab": {
      "name": "3 Array operations in NumPy.ipynb",
      "provenance": [],
      "collapsed_sections": []
    },
    "kernelspec": {
      "display_name": "Python 3",
      "name": "python3"
    }
  },
  "cells": [
    {
      "cell_type": "markdown",
      "metadata": {
        "id": "8JaV95DZcN23"
      },
      "source": [
        "# Array operations in NumPy"
      ]
    },
    {
      "cell_type": "markdown",
      "metadata": {
        "id": "YGKRTKtVcP8l"
      },
      "source": [
        "From: A.K."
      ]
    },
    {
      "cell_type": "markdown",
      "metadata": {
        "id": "YVGR8ovwcViF"
      },
      "source": [
        "##**Create arrays from scratch**"
      ]
    },
    {
      "cell_type": "markdown",
      "metadata": {
        "id": "aD7Vw0evdijl"
      },
      "source": [
        "> 1. Creating an array of integers of length 10, filled with zeros"
      ]
    },
    {
      "cell_type": "code",
      "metadata": {
        "id": "QktCY1-2doB-",
        "cellView": "both",
        "colab": {
          "base_uri": "https://localhost:8080/"
        },
        "outputId": "7f5ee53f-a8ed-48cd-a167-57ac0132d1cb"
      },
      "source": [
        "import numpy as np\n",
        "np.zeros(10, dtype=int)"
      ],
      "execution_count": 1,
      "outputs": [
        {
          "output_type": "execute_result",
          "data": {
            "text/plain": [
              "array([0, 0, 0, 0, 0, 0, 0, 0, 0, 0])"
            ]
          },
          "metadata": {},
          "execution_count": 1
        }
      ]
    },
    {
      "cell_type": "markdown",
      "metadata": {
        "id": "6nVocuh3evMo"
      },
      "source": [
        "> 2. Creating a 3x5 array of floating point values, filled with ones"
      ]
    },
    {
      "cell_type": "code",
      "metadata": {
        "id": "0KbxuWXuezNJ",
        "colab": {
          "base_uri": "https://localhost:8080/"
        },
        "outputId": "1d1af7e5-864e-4cf2-9721-79d9e7e58f07"
      },
      "source": [
        "np.ones((3, 5), dtype=float)\n"
      ],
      "execution_count": 2,
      "outputs": [
        {
          "output_type": "execute_result",
          "data": {
            "text/plain": [
              "array([[1., 1., 1., 1., 1.],\n",
              "       [1., 1., 1., 1., 1.],\n",
              "       [1., 1., 1., 1., 1.]])"
            ]
          },
          "metadata": {},
          "execution_count": 2
        }
      ]
    },
    {
      "cell_type": "markdown",
      "metadata": {
        "id": "Opnii0RYe7NG"
      },
      "source": [
        "> 3. Creating a 3x5 array filled with value 17.03"
      ]
    },
    {
      "cell_type": "code",
      "metadata": {
        "id": "GuJtLqyEfEH6",
        "colab": {
          "base_uri": "https://localhost:8080/"
        },
        "outputId": "042fb1da-6b36-46f1-cfd5-7fac402e3f10"
      },
      "source": [
        "np.full((3, 5), 17.03)"
      ],
      "execution_count": 3,
      "outputs": [
        {
          "output_type": "execute_result",
          "data": {
            "text/plain": [
              "array([[17.03, 17.03, 17.03, 17.03, 17.03],\n",
              "       [17.03, 17.03, 17.03, 17.03, 17.03],\n",
              "       [17.03, 17.03, 17.03, 17.03, 17.03]])"
            ]
          },
          "metadata": {},
          "execution_count": 3
        }
      ]
    },
    {
      "cell_type": "markdown",
      "metadata": {
        "id": "V7foGZyrfPBR"
      },
      "source": [
        "> 4. Creating an array filled with a linear sequence starting with 0 and ending with 27 (not included), in steps of 3"
      ]
    },
    {
      "cell_type": "code",
      "metadata": {
        "id": "T8xtf4ECfUh9",
        "colab": {
          "base_uri": "https://localhost:8080/"
        },
        "outputId": "d1f4f7a3-956d-4b58-ecfb-9d4c58510641"
      },
      "source": [
        "np.arange(0, 27, 3)"
      ],
      "execution_count": 5,
      "outputs": [
        {
          "output_type": "execute_result",
          "data": {
            "text/plain": [
              "array([ 0,  3,  6,  9, 12, 15, 18, 21, 24])"
            ]
          },
          "metadata": {},
          "execution_count": 5
        }
      ]
    },
    {
      "cell_type": "markdown",
      "metadata": {
        "id": "aaPPcKPBfirG"
      },
      "source": [
        "> 5. Creating an array of five values, evenly spaced between 0 and 3"
      ]
    },
    {
      "cell_type": "code",
      "metadata": {
        "id": "ta1UBbQXfluA",
        "colab": {
          "base_uri": "https://localhost:8080/"
        },
        "outputId": "823f1d11-8334-4bc6-969a-f9b8828a92a0"
      },
      "source": [
        "np.linspace(0, 3, 5)"
      ],
      "execution_count": 6,
      "outputs": [
        {
          "output_type": "execute_result",
          "data": {
            "text/plain": [
              "array([0.  , 0.75, 1.5 , 2.25, 3.  ])"
            ]
          },
          "metadata": {},
          "execution_count": 6
        }
      ]
    },
    {
      "cell_type": "markdown",
      "metadata": {
        "id": "mivDuhJ0frqQ"
      },
      "source": [
        "> 6. Creating a 3x3 array of uniformly distributed random values from 0 to 1"
      ]
    },
    {
      "cell_type": "code",
      "metadata": {
        "id": "V4s32uYgfvA2",
        "colab": {
          "base_uri": "https://localhost:8080/"
        },
        "outputId": "12c3340e-5923-48b1-e885-0da44f330aca"
      },
      "source": [
        "np.random.random((3, 3))"
      ],
      "execution_count": 7,
      "outputs": [
        {
          "output_type": "execute_result",
          "data": {
            "text/plain": [
              "array([[0.07308144, 0.77936948, 0.98681382],\n",
              "       [0.26757707, 0.7212021 , 0.6605307 ],\n",
              "       [0.98143862, 0.30350396, 0.26248089]])"
            ]
          },
          "metadata": {},
          "execution_count": 7
        }
      ]
    },
    {
      "cell_type": "markdown",
      "metadata": {
        "id": "6L6DsqU6gB05"
      },
      "source": [
        "> 7. Creating a 3x3 array of normally distributed random values with a median of 0 and a standard deviation of 1 "
      ]
    },
    {
      "cell_type": "code",
      "metadata": {
        "id": "rqyufkjIgEIk",
        "colab": {
          "base_uri": "https://localhost:8080/"
        },
        "outputId": "124c117c-48a2-4bf1-970f-db40c2cc8fb1"
      },
      "source": [
        "np.random.normal(0, 1, (3, 3))"
      ],
      "execution_count": 8,
      "outputs": [
        {
          "output_type": "execute_result",
          "data": {
            "text/plain": [
              "array([[-0.31604147,  1.27142957,  0.64770383],\n",
              "       [ 0.1396571 , -0.31588639, -0.25527984],\n",
              "       [ 1.3710162 ,  0.58498143, -1.30358943]])"
            ]
          },
          "metadata": {},
          "execution_count": 8
        }
      ]
    },
    {
      "cell_type": "markdown",
      "metadata": {
        "id": "hXxuWZ__gLiC"
      },
      "source": [
        "> 8. Creating a 3x3 array of random integers between [0, 17]"
      ]
    },
    {
      "cell_type": "code",
      "metadata": {
        "id": "3BkamomRgOPV",
        "colab": {
          "base_uri": "https://localhost:8080/"
        },
        "outputId": "eca2b819-58e3-41af-813c-14ed9f352bf0"
      },
      "source": [
        "np.random.randint(0, 17, (3, 3))"
      ],
      "execution_count": 9,
      "outputs": [
        {
          "output_type": "execute_result",
          "data": {
            "text/plain": [
              "array([[16,  9, 15],\n",
              "       [16,  6,  6],\n",
              "       [ 8,  5,  6]])"
            ]
          },
          "metadata": {},
          "execution_count": 9
        }
      ]
    },
    {
      "cell_type": "markdown",
      "metadata": {
        "id": "HmANcmKRgSgR"
      },
      "source": [
        "> 9. Creating a 4x4 unit matrix"
      ]
    },
    {
      "cell_type": "code",
      "metadata": {
        "id": "y0fme6ZWgUGX",
        "colab": {
          "base_uri": "https://localhost:8080/"
        },
        "outputId": "f69781fd-fd87-474f-978f-90fc85587d52"
      },
      "source": [
        "np.eye(4)"
      ],
      "execution_count": 10,
      "outputs": [
        {
          "output_type": "execute_result",
          "data": {
            "text/plain": [
              "array([[1., 0., 0., 0.],\n",
              "       [0., 1., 0., 0.],\n",
              "       [0., 0., 1., 0.],\n",
              "       [0., 0., 0., 1.]])"
            ]
          },
          "metadata": {},
          "execution_count": 10
        }
      ]
    },
    {
      "cell_type": "markdown",
      "metadata": {
        "id": "5EzzuLHK2m5g"
      },
      "source": [
        "##**Array Attributes**"
      ]
    },
    {
      "cell_type": "markdown",
      "metadata": {
        "id": "XuDaHAmx3SrL"
      },
      "source": [
        "Array attributes - defining the size, shape, memory usage, and data types of arrays."
      ]
    },
    {
      "cell_type": "markdown",
      "metadata": {
        "id": "EvUz28TF3nXy"
      },
      "source": [
        "Let's create three arrays: one-dimensional, two-dimensional and three-dimensional."
      ]
    },
    {
      "cell_type": "code",
      "metadata": {
        "id": "WQlVMrj43_2f",
        "colab": {
          "base_uri": "https://localhost:8080/"
        },
        "outputId": "6d96e758-0b7a-4f7a-faf3-adda1102ef1a"
      },
      "source": [
        "np.random.seed(0)\n",
        "x1 = np.random.randint(10, size=6)\n",
        "x2 = np.random.randint(10, size=(3, 4))\n",
        "x3 = np.random.randint(10, size=(3, 4, 5))\n",
        "print('x1 - ', x1, '\\n')\n",
        "print('x2 - ', x2, '\\n')\n",
        "print('x3 - ', x3, '\\n')"
      ],
      "execution_count": 11,
      "outputs": [
        {
          "output_type": "stream",
          "name": "stdout",
          "text": [
            "x1 -  [5 0 3 3 7 9] \n",
            "\n",
            "x2 -  [[3 5 2 4]\n",
            " [7 6 8 8]\n",
            " [1 6 7 7]] \n",
            "\n",
            "x3 -  [[[8 1 5 9 8]\n",
            "  [9 4 3 0 3]\n",
            "  [5 0 2 3 8]\n",
            "  [1 3 3 3 7]]\n",
            "\n",
            " [[0 1 9 9 0]\n",
            "  [4 7 3 2 7]\n",
            "  [2 0 0 4 5]\n",
            "  [5 6 8 4 1]]\n",
            "\n",
            " [[4 9 8 1 1]\n",
            "  [7 9 9 3 6]\n",
            "  [7 2 0 3 5]\n",
            "  [9 4 4 6 4]]] \n",
            "\n"
          ]
        }
      ]
    },
    {
      "cell_type": "markdown",
      "metadata": {
        "id": "69gDFflX4nS6"
      },
      "source": [
        "Each of the arrays has the attributes dimension (ndim), size of each dimension (shape) and total size of the array (size):"
      ]
    },
    {
      "cell_type": "code",
      "metadata": {
        "id": "eJnieTVy4zAx",
        "colab": {
          "base_uri": "https://localhost:8080/"
        },
        "outputId": "bc5cf7e5-f8eb-41b8-ac0f-774e8cd17c06"
      },
      "source": [
        "print(\"x3 ndim: \", x3.ndim)\n",
        "print(\"x3 shape:\", x3.shape)\n",
        "print(\"x3 size: \", x3.size)"
      ],
      "execution_count": 12,
      "outputs": [
        {
          "output_type": "stream",
          "name": "stdout",
          "text": [
            "x3 ndim:  3\n",
            "x3 shape: (3, 4, 5)\n",
            "x3 size:  60\n"
          ]
        }
      ]
    },
    {
      "cell_type": "markdown",
      "metadata": {
        "id": "Ekd0s5yU5mAe"
      },
      "source": [
        "##**Array indexing**"
      ]
    },
    {
      "cell_type": "markdown",
      "metadata": {
        "id": "Y-cmKPZG5p82"
      },
      "source": [
        "Array indexing is getting and setting values of individual array elements."
      ]
    },
    {
      "cell_type": "code",
      "metadata": {
        "id": "fDrkvN7v66h4",
        "colab": {
          "base_uri": "https://localhost:8080/"
        },
        "outputId": "449dc4ff-e9a7-4c04-9f9e-f17a1b993a62"
      },
      "source": [
        "print('Whole array:', x1)\n",
        "print('1st array element -',x1[0])\n",
        "print('5th array element -',x1[4])"
      ],
      "execution_count": 13,
      "outputs": [
        {
          "output_type": "stream",
          "name": "stdout",
          "text": [
            "Whole array: [5 0 3 3 7 9]\n",
            "1st array element - 5\n",
            "5th array element - 7\n"
          ]
        }
      ]
    },
    {
      "cell_type": "markdown",
      "metadata": {
        "id": "KS_y779t7kHl"
      },
      "source": [
        "Negative indices can be used to index from the end of the array:"
      ]
    },
    {
      "cell_type": "code",
      "metadata": {
        "id": "u_VemT6Q7k8R",
        "colab": {
          "base_uri": "https://localhost:8080/"
        },
        "outputId": "71f972ed-f140-4e74-c55c-90f56c2071e2"
      },
      "source": [
        "print('Whole array:', x1)\n",
        "print('1st end element -', x1[-1])\n",
        "print('2nd end element -', x1[-2])"
      ],
      "execution_count": 14,
      "outputs": [
        {
          "output_type": "stream",
          "name": "stdout",
          "text": [
            "Whole array: [5 0 3 3 7 9]\n",
            "1st end element - 9\n",
            "2nd end element - 7\n"
          ]
        }
      ]
    },
    {
      "cell_type": "markdown",
      "metadata": {
        "id": "wR3_b5t38Bej"
      },
      "source": [
        "The elements in a multidimensional array can be accessed using comma-separated tuples of indices:"
      ]
    },
    {
      "cell_type": "code",
      "metadata": {
        "id": "Y6ngd5hI8F6u",
        "colab": {
          "base_uri": "https://localhost:8080/"
        },
        "outputId": "1970cfc4-751f-45ce-d0a1-bb7903356772"
      },
      "source": [
        "# Don't forget that indexing starts from zero\n",
        "print('Whole array:\\n', x2, '\\n')\n",
        "print('Item 0x0 -', x2[0, 0])\n",
        "print('Item 2x0 -', x2[2, 0])\n",
        "print('Item 2x-1 -', x2[2, -1])"
      ],
      "execution_count": 15,
      "outputs": [
        {
          "output_type": "stream",
          "name": "stdout",
          "text": [
            "Whole array:\n",
            " [[3 5 2 4]\n",
            " [7 6 8 8]\n",
            " [1 6 7 7]] \n",
            "\n",
            "Item 0x0 - 3\n",
            "Item 2x0 - 1\n",
            "Item 2x-1 - 7\n"
          ]
        }
      ]
    },
    {
      "cell_type": "markdown",
      "metadata": {
        "id": "t8ZF-Epd8wap"
      },
      "source": [
        "You can also change the values in the arrays by indexes:"
      ]
    },
    {
      "cell_type": "code",
      "metadata": {
        "id": "YQaU4HH38_L0",
        "colab": {
          "base_uri": "https://localhost:8080/"
        },
        "outputId": "815a25d3-7275-4d63-d854-3dd14c9152ae"
      },
      "source": [
        "print('Initial array:\\n', x2, '\\n')\n",
        "x2[0, 0] = 12\n",
        "print('Modified array:\\n', x2)"
      ],
      "execution_count": 16,
      "outputs": [
        {
          "output_type": "stream",
          "name": "stdout",
          "text": [
            "Initial array:\n",
            " [[3 5 2 4]\n",
            " [7 6 8 8]\n",
            " [1 6 7 7]] \n",
            "\n",
            "Modified array:\n",
            " [[12  5  2  4]\n",
            " [ 7  6  8  8]\n",
            " [ 1  6  7  7]]\n"
          ]
        }
      ]
    },
    {
      "cell_type": "markdown",
      "metadata": {
        "id": "JcIVa8YK9QTK"
      },
      "source": [
        "Remember that NumPy arrays have a fixed data type, so if the array contains integers, replacing one of the integers with a floating-point integer will not work, it will be truncated."
      ]
    },
    {
      "cell_type": "code",
      "metadata": {
        "id": "N2gBsG-p_p8y",
        "colab": {
          "base_uri": "https://localhost:8080/"
        },
        "outputId": "48586995-5fe3-424d-a57c-285031486e5a"
      },
      "source": [
        "print('Initial array:\\n', x1, '\\n')\n",
        "x1[0] = 2.72\n",
        "print('Modified array:\\n', x1)"
      ],
      "execution_count": 17,
      "outputs": [
        {
          "output_type": "stream",
          "name": "stdout",
          "text": [
            "Initial array:\n",
            " [5 0 3 3 7 9] \n",
            "\n",
            "Modified array:\n",
            " [2 0 3 3 7 9]\n"
          ]
        }
      ]
    },
    {
      "cell_type": "markdown",
      "metadata": {
        "id": "v5sXbt52AMRj"
      },
      "source": [
        "##**Array Slicing**"
      ]
    },
    {
      "cell_type": "markdown",
      "metadata": {
        "id": "qAXKPyZUAVhy"
      },
      "source": [
        "Array slicing is getting and setting values of sub-arrays within a large array."
      ]
    },
    {
      "cell_type": "markdown",
      "metadata": {
        "id": "xpTgvEY5BPVn"
      },
      "source": [
        "Similar to accessing individual array elements, you can use square brackets to access subarrays with slicing. To access a slicing array x, use the syntax:\n",
        "\n",
        "x[start:end:step] \n",
        "\n",
        "If any of these values are not specified, the defaults apply: start = 0, end = size of the corresponding dimension, step = 1."
      ]
    },
    {
      "cell_type": "code",
      "metadata": {
        "id": "54Fn5orXCIDe",
        "colab": {
          "base_uri": "https://localhost:8080/"
        },
        "outputId": "cc9f4992-9f93-442c-b676-08a6ab806de9"
      },
      "source": [
        "x = np.arange(10)\n",
        "print('Initial array -', x)\n",
        "print('First five elements -', x[:5])\n",
        "print('Elements after index 5 -', x[5:]) \n",
        "print('Subarray from the middle -', x[4:7]) \n",
        "print('Every second element -', x[::2])\n",
        "print('Every second element starting from index 1 -', x[1::2])"
      ],
      "execution_count": 18,
      "outputs": [
        {
          "output_type": "stream",
          "name": "stdout",
          "text": [
            "Initial array - [0 1 2 3 4 5 6 7 8 9]\n",
            "First five elements - [0 1 2 3 4]\n",
            "Elements after index 5 - [5 6 7 8 9]\n",
            "Subarray from the middle - [4 5 6]\n",
            "Every second element - [0 2 4 6 8]\n",
            "Every second element starting from index 1 - [1 3 5 7 9]\n"
          ]
        }
      ]
    },
    {
      "cell_type": "markdown",
      "metadata": {
        "id": "b3Xx_wiyECMY"
      },
      "source": [
        "##**Creation of array copies**"
      ]
    },
    {
      "cell_type": "markdown",
      "metadata": {
        "id": "xW8atyLMEHaX"
      },
      "source": [
        "The copy() method can be used to make a copy of an array, which is sometimes useful:"
      ]
    },
    {
      "cell_type": "code",
      "metadata": {
        "id": "oNCCMVfREUr4",
        "colab": {
          "base_uri": "https://localhost:8080/"
        },
        "outputId": "cad803d7-7e40-4667-cba0-82842d022634"
      },
      "source": [
        "print('x2:\\n', x2, '\\n')\n",
        "x2_copy = x2[:2, :2].copy()\n",
        "print('x2_copy:\\n', x2_copy)"
      ],
      "execution_count": 19,
      "outputs": [
        {
          "output_type": "stream",
          "name": "stdout",
          "text": [
            "x2:\n",
            " [[12  5  2  4]\n",
            " [ 7  6  8  8]\n",
            " [ 1  6  7  7]] \n",
            "\n",
            "x2_copy:\n",
            " [[12  5]\n",
            " [ 7  6]]\n"
          ]
        }
      ]
    },
    {
      "cell_type": "markdown",
      "metadata": {
        "id": "4gTeUSLdFJht"
      },
      "source": [
        "Now if you change this subarray, the original array remains unchanged: "
      ]
    },
    {
      "cell_type": "code",
      "metadata": {
        "id": "zOQ659U8FOVf",
        "colab": {
          "base_uri": "https://localhost:8080/"
        },
        "outputId": "17b047e1-ff8c-4299-cc25-fa9ea2ab5a46"
      },
      "source": [
        "x2_copy[0, 0] = 803\n",
        "print('x2_copy:\\n', x2_copy, '\\n')\n",
        "print('x2:\\n', x2)\n"
      ],
      "execution_count": 20,
      "outputs": [
        {
          "output_type": "stream",
          "name": "stdout",
          "text": [
            "x2_copy:\n",
            " [[803   5]\n",
            " [  7   6]] \n",
            "\n",
            "x2:\n",
            " [[12  5  2  4]\n",
            " [ 7  6  8  8]\n",
            " [ 1  6  7  7]]\n"
          ]
        }
      ]
    },
    {
      "cell_type": "markdown",
      "metadata": {
        "id": "ESGLbzJyC79G"
      },
      "source": [
        "##**Changing the shape of arrays**"
      ]
    },
    {
      "cell_type": "markdown",
      "metadata": {
        "id": "lcFsv-I6Fjc6"
      },
      "source": [
        "Changing the shape of arrays is done by the reshape() method. For example, if we want to put a number from 1 to 9 into a 3x3 array, we can do it as follows:"
      ]
    },
    {
      "cell_type": "code",
      "metadata": {
        "id": "E7wO3aOtF88S",
        "colab": {
          "base_uri": "https://localhost:8080/"
        },
        "outputId": "e007f34e-b4b5-4ca8-fe19-8105819e9d7f"
      },
      "source": [
        "arsh = np.arange(1, 10).reshape((3, 3))\n",
        "print('arsh:\\n', arsh)\n"
      ],
      "execution_count": 22,
      "outputs": [
        {
          "output_type": "stream",
          "name": "stdout",
          "text": [
            "arsh:\n",
            " [[1 2 3]\n",
            " [4 5 6]\n",
            " [7 8 9]]\n"
          ]
        }
      ]
    },
    {
      "cell_type": "markdown",
      "metadata": {
        "id": "pq6x9wJyGqJW"
      },
      "source": [
        "Another commonly used reshape pattern is to convert a one-dimensional array to a two-dimensional row matrix or column matrix. You can use the reshape method for this, but it is better to use the newaxis keyword when performing a slice operation: "
      ]
    },
    {
      "cell_type": "code",
      "metadata": {
        "id": "83yGyLPlGtLp",
        "colab": {
          "base_uri": "https://localhost:8080/"
        },
        "outputId": "a663cc26-1bc9-4d34-86d5-842df7a8ab1d"
      },
      "source": [
        "x = np.array([1, 2, 3]) \n",
        "print(x.reshape((1, 3)))    # Conversion to vector-string \n",
        "print(x[np.newaxis, :])     "
      ],
      "execution_count": 23,
      "outputs": [
        {
          "output_type": "stream",
          "name": "stdout",
          "text": [
            "[[1 2 3]]\n",
            "[[1 2 3]]\n"
          ]
        }
      ]
    },
    {
      "cell_type": "code",
      "metadata": {
        "id": "AOnqlKfxG6pX",
        "colab": {
          "base_uri": "https://localhost:8080/"
        },
        "outputId": "a54d8117-3bfc-4a10-8667-5b1e2e193960"
      },
      "source": [
        "print(x.reshape((3, 1)))   # Conversion to vector-column\n",
        "print('\\n',x[:, np.newaxis])    "
      ],
      "execution_count": 24,
      "outputs": [
        {
          "output_type": "stream",
          "name": "stdout",
          "text": [
            "[[1]\n",
            " [2]\n",
            " [3]]\n",
            "\n",
            " [[1]\n",
            " [2]\n",
            " [3]]\n"
          ]
        }
      ]
    },
    {
      "cell_type": "markdown",
      "metadata": {
        "id": "gOf1t8YdJPkt"
      },
      "source": [
        "##**Array merging**"
      ]
    },
    {
      "cell_type": "markdown",
      "metadata": {
        "id": "VUSCfNJgJU8A"
      },
      "source": [
        "Merging or joining two arrays in NumPy is mostly done using np.concatenate, np.vstack and np.hstack methods. The np.concatenate method takes a tuple or a list of arrays as the first argument:"
      ]
    },
    {
      "cell_type": "code",
      "metadata": {
        "id": "3bJyoyq1Jc5O",
        "colab": {
          "base_uri": "https://localhost:8080/"
        },
        "outputId": "12eccebf-29a6-4479-ba58-7f273e98a1d6"
      },
      "source": [
        "x = np.array([4, 6, 8])\n",
        "y = np.array([8, 6, 4])\n",
        "print('x + y =', np.concatenate([x, y]))"
      ],
      "execution_count": 25,
      "outputs": [
        {
          "output_type": "stream",
          "name": "stdout",
          "text": [
            "x + y = [4 6 8 8 6 4]\n"
          ]
        }
      ]
    },
    {
      "cell_type": "markdown",
      "metadata": {
        "id": "JHf1moDhJpkJ"
      },
      "source": [
        "You can merge more than two arrays at the same time:"
      ]
    },
    {
      "cell_type": "code",
      "metadata": {
        "id": "wJAIhTJTJqh7",
        "colab": {
          "base_uri": "https://localhost:8080/"
        },
        "outputId": "8a97ab9e-5fee-41be-d580-c6ea3803754e"
      },
      "source": [
        "z = [77, 88, 99]\n",
        "print('x + y + z =', np.concatenate([x, y, z]))"
      ],
      "execution_count": 26,
      "outputs": [
        {
          "output_type": "stream",
          "name": "stdout",
          "text": [
            "x + y + z = [ 4  6  8  8  6  4 77 88 99]\n"
          ]
        }
      ]
    },
    {
      "cell_type": "markdown",
      "metadata": {
        "id": "ZRqv6kS5Jzjq"
      },
      "source": [
        "You can also use np.concatenate to merge two-dimensional arrays: "
      ]
    },
    {
      "cell_type": "code",
      "metadata": {
        "id": "hRQn6x2TJ0PU",
        "colab": {
          "base_uri": "https://localhost:8080/"
        },
        "outputId": "77d5afd2-8e2b-44e2-87c6-7788ef78a5e1"
      },
      "source": [
        "grid = np.array([[1, 2, 3], [4, 5, 6]])\n",
        "print('Merging along the first coordinate axis:\\n', np.concatenate([grid, grid]), '\\n')\n",
        "print('Merging along the second coordinate axis:\\n', np.concatenate([grid, grid], axis=1))"
      ],
      "execution_count": 27,
      "outputs": [
        {
          "output_type": "stream",
          "name": "stdout",
          "text": [
            "Merging along the first coordinate axis:\n",
            " [[1 2 3]\n",
            " [4 5 6]\n",
            " [1 2 3]\n",
            " [4 5 6]] \n",
            "\n",
            "Merging along the second coordinate axis:\n",
            " [[1 2 3 1 2 3]\n",
            " [4 5 6 4 5 6]]\n"
          ]
        }
      ]
    },
    {
      "cell_type": "markdown",
      "metadata": {
        "id": "_XmAhmuCKhsq"
      },
      "source": [
        "To work with arrays with different dimensions, it is more convenient and clear to use the functions np.vstack (vertical join) and np.hstack (horizontal join):"
      ]
    },
    {
      "cell_type": "code",
      "metadata": {
        "id": "tqJlQQ92Kkuv",
        "colab": {
          "base_uri": "https://localhost:8080/"
        },
        "outputId": "c25f6994-b65b-445f-d770-bc4350533d76"
      },
      "source": [
        "x = np.array([1, 2, 3])\n",
        "grid = np.array([[9, 8, 7], [6, 5, 4]])\n",
        "print('Join arrays vertically:\\n', np.vstack([x, grid]), '\\n')\n",
        "y = np.array([[99], [99]])\n",
        "print('Join arrays horizontally:\\n', np.hstack([grid, y]))\n"
      ],
      "execution_count": 28,
      "outputs": [
        {
          "output_type": "stream",
          "name": "stdout",
          "text": [
            "Join arrays vertically:\n",
            " [[1 2 3]\n",
            " [9 8 7]\n",
            " [6 5 4]] \n",
            "\n",
            "Join arrays horizontally:\n",
            " [[ 9  8  7 99]\n",
            " [ 6  5  4 99]]\n"
          ]
        }
      ]
    },
    {
      "cell_type": "markdown",
      "metadata": {
        "id": "31HEPAE4H8Qz"
      },
      "source": [
        "##**Array splitting**"
      ]
    },
    {
      "cell_type": "markdown",
      "metadata": {
        "id": "YYI1Ba1BH-6-"
      },
      "source": [
        "The opposite of merge is splitting, which is done with the functions np.split, np.hsplit and np.vsplit. You need to pass a list of indexes to them, which specify the split points: "
      ]
    },
    {
      "cell_type": "code",
      "metadata": {
        "id": "a7EyGbjbIDZE",
        "colab": {
          "base_uri": "https://localhost:8080/"
        },
        "outputId": "071846cc-cf75-44db-ffef-0317ccfd2870"
      },
      "source": [
        "x = [1, 2, 3, 77, 99, 33, 22, 11]\n",
        "x1, x2, x3 = np.split(x, [3, 5])\n",
        "print('x1 -', x1)\n",
        "print('x2 -', x2)\n",
        "print('x3 -', x3)\n"
      ],
      "execution_count": 29,
      "outputs": [
        {
          "output_type": "stream",
          "name": "stdout",
          "text": [
            "x1 - [1 2 3]\n",
            "x2 - [77 99]\n",
            "x3 - [33 22 11]\n"
          ]
        }
      ]
    },
    {
      "cell_type": "code",
      "metadata": {
        "id": "WvPT9uiTIbZa",
        "colab": {
          "base_uri": "https://localhost:8080/"
        },
        "outputId": "58eaca65-0ed1-4aab-ede2-9ab1129a31d3"
      },
      "source": [
        "# other examples of splitting\n",
        "\n",
        "grid = np.arange(16).reshape((4, 4))\n",
        "print('grid:\\n', grid, '\\n')\n",
        "upper, lower = np.vsplit(grid, [2])\n",
        "print('upper:\\n', upper, '\\n')\n",
        "print('lower:\\n', lower, '\\n')\n",
        "left, right = np.hsplit(grid, [2])\n",
        "print('left:\\n', left, '\\n')\n",
        "print('right:\\n', right)"
      ],
      "execution_count": 30,
      "outputs": [
        {
          "output_type": "stream",
          "name": "stdout",
          "text": [
            "grid:\n",
            " [[ 0  1  2  3]\n",
            " [ 4  5  6  7]\n",
            " [ 8  9 10 11]\n",
            " [12 13 14 15]] \n",
            "\n",
            "upper:\n",
            " [[0 1 2 3]\n",
            " [4 5 6 7]] \n",
            "\n",
            "lower:\n",
            " [[ 8  9 10 11]\n",
            " [12 13 14 15]] \n",
            "\n",
            "left:\n",
            " [[ 0  1]\n",
            " [ 4  5]\n",
            " [ 8  9]\n",
            " [12 13]] \n",
            "\n",
            "right:\n",
            " [[ 2  3]\n",
            " [ 6  7]\n",
            " [10 11]\n",
            " [14 15]]\n"
          ]
        }
      ]
    },
    {
      "cell_type": "markdown",
      "metadata": {
        "id": "rxzyrNVAMQJI"
      },
      "source": [
        "##**Broadcasting**"
      ]
    },
    {
      "cell_type": "markdown",
      "metadata": {
        "id": "_KwSaxs8MV0T"
      },
      "source": [
        "For arrays of the same size, binary operations are performed element by element:"
      ]
    },
    {
      "cell_type": "code",
      "metadata": {
        "id": "XYsSqD50Mas8",
        "colab": {
          "base_uri": "https://localhost:8080/"
        },
        "outputId": "f46626ae-e2e3-4a57-fbf6-2530c1c2bc47"
      },
      "source": [
        "a = np.array([0, 1, 3])\n",
        "b = np.array([7, 7, 7])\n",
        "print('a: ', a)\n",
        "print('b: ', b)\n",
        "print('a + b =', a + b) "
      ],
      "execution_count": 32,
      "outputs": [
        {
          "output_type": "stream",
          "name": "stdout",
          "text": [
            "a:  [0 1 3]\n",
            "b:  [7 7 7]\n",
            "a + b = [ 7  8 10]\n"
          ]
        }
      ]
    },
    {
      "cell_type": "markdown",
      "metadata": {
        "id": "Ru2ws8laMn2N"
      },
      "source": [
        "You can also easily add a scalar value to an array:"
      ]
    },
    {
      "cell_type": "code",
      "metadata": {
        "id": "P6NIBhtBMueO",
        "colab": {
          "base_uri": "https://localhost:8080/"
        },
        "outputId": "1f6d0975-ed50-47ae-fdf4-7b6067ebb07e"
      },
      "source": [
        "print('a: ', a)\n",
        "print('a + 11 =', a + 11)"
      ],
      "execution_count": 33,
      "outputs": [
        {
          "output_type": "stream",
          "name": "stdout",
          "text": [
            "a:  [0 1 3]\n",
            "a + 11 = [11 12 14]\n"
          ]
        }
      ]
    },
    {
      "cell_type": "markdown",
      "metadata": {
        "id": "XArqVdghNmdr"
      },
      "source": [
        "Similarly, we can extend the broadcast to arrays of larger dimensions:"
      ]
    },
    {
      "cell_type": "code",
      "metadata": {
        "id": "Y4S1JP7TNhJh",
        "colab": {
          "base_uri": "https://localhost:8080/"
        },
        "outputId": "08a74ac6-48af-415b-ed51-477345eef7cf"
      },
      "source": [
        "M = np.full((3, 3), 5)\n",
        "print('M:\\n', M, '\\n')\n",
        "print('a:', a, '\\n')\n",
        "print('M + a =\\n', M + a)"
      ],
      "execution_count": 34,
      "outputs": [
        {
          "output_type": "stream",
          "name": "stdout",
          "text": [
            "M:\n",
            " [[5 5 5]\n",
            " [5 5 5]\n",
            " [5 5 5]] \n",
            "\n",
            "a: [0 1 3] \n",
            "\n",
            "M + a =\n",
            " [[5 6 8]\n",
            " [5 6 8]\n",
            " [5 6 8]]\n"
          ]
        }
      ]
    },
    {
      "cell_type": "markdown",
      "metadata": {
        "id": "HvdD5o9EOHYS"
      },
      "source": [
        "Here the one-dimensional array a is stretched (broadcasted) into a second dimension to fit the shape of the array M. More complex cases may involve broadcasting both arrays:"
      ]
    },
    {
      "cell_type": "code",
      "metadata": {
        "id": "BY7g_vXROIkE",
        "colab": {
          "base_uri": "https://localhost:8080/"
        },
        "outputId": "c07d04cc-4e64-4c4d-fddc-ae90a38b2d77"
      },
      "source": [
        "a = np.arange(3)\n",
        "b = np.arange(3)[:, np.newaxis]\n",
        "print('a:', a, '\\n')\n",
        "print('b:\\n', b, '\\n')\n",
        "print('a + b =\\n', a + b)"
      ],
      "execution_count": 35,
      "outputs": [
        {
          "output_type": "stream",
          "name": "stdout",
          "text": [
            "a: [0 1 2] \n",
            "\n",
            "b:\n",
            " [[0]\n",
            " [1]\n",
            " [2]] \n",
            "\n",
            "a + b =\n",
            " [[0 1 2]\n",
            " [1 2 3]\n",
            " [2 3 4]]\n"
          ]
        }
      ]
    },
    {
      "cell_type": "markdown",
      "metadata": {
        "id": "Md98MsUwPFo6"
      },
      "source": [
        "Broadcasting in NumPy follows a strict set of rules defining the interaction between two arrays.\n",
        "\n",
        "**Rule 1**: if the dimensionality of the two arrays differs, the shape of the array with the smaller dimensionality is augmented with units on the left side.\n",
        "\n",
        "**Rule 2**: If the shape of the two arrays doesn't match in some dimension, the array with a shape equal to 1 in that dimension is stretched to match the shape of the other array.\n",
        "\n",
        "**Rule 3**: If the sizes of the arrays differ in any dimension and neither of them equals 1, an error is generated. "
      ]
    },
    {
      "cell_type": "markdown",
      "source": [
        "###**Additionally**"
      ],
      "metadata": {
        "id": "zGSPbIIiURbh"
      }
    },
    {
      "cell_type": "code",
      "metadata": {
        "id": "evT1_zBKdVwW",
        "colab": {
          "base_uri": "https://localhost:8080/"
        },
        "outputId": "a02de58c-f809-4349-b9a5-cfb769a210d9"
      },
      "source": [
        "#Product of the elements of both arrays\n",
        "a = np.array([[1,2], [0,9]])\n",
        "print(a)\n",
        "b = np.array([[2,11],[3,7]])\n",
        "print(b)\n",
        "a * b\n"
      ],
      "execution_count": 36,
      "outputs": [
        {
          "output_type": "stream",
          "name": "stdout",
          "text": [
            "[[1 2]\n",
            " [0 9]]\n",
            "[[ 2 11]\n",
            " [ 3  7]]\n"
          ]
        },
        {
          "output_type": "execute_result",
          "data": {
            "text/plain": [
              "array([[ 2, 22],\n",
              "       [ 0, 63]])"
            ]
          },
          "metadata": {},
          "execution_count": 36
        }
      ]
    },
    {
      "cell_type": "code",
      "metadata": {
        "id": "PdV3yttygwA8",
        "colab": {
          "base_uri": "https://localhost:8080/"
        },
        "outputId": "6e791aab-4514-40b3-9470-606bf18adccb"
      },
      "source": [
        "#The matrix product of both arrays\n",
        "a = np.array([[1,1], [0,1]])\n",
        "print(a)\n",
        "b = np.array([[2,0],[3,4]])\n",
        "print(b)\n",
        "a @ b "
      ],
      "execution_count": 37,
      "outputs": [
        {
          "output_type": "stream",
          "name": "stdout",
          "text": [
            "[[1 1]\n",
            " [0 1]]\n",
            "[[2 0]\n",
            " [3 4]]\n"
          ]
        },
        {
          "output_type": "execute_result",
          "data": {
            "text/plain": [
              "array([[5, 4],\n",
              "       [3, 4]])"
            ]
          },
          "metadata": {},
          "execution_count": 37
        }
      ]
    },
    {
      "cell_type": "code",
      "metadata": {
        "id": "7hDCvDSHmBT7",
        "colab": {
          "base_uri": "https://localhost:8080/"
        },
        "outputId": "b8367fca-91fd-440f-cf70-8216f3a9306c"
      },
      "source": [
        "#Move the array axis to the specified positions\n",
        "a = np.arange(24).reshape(3, 2, 4)\n",
        "print(a)\n",
        "b = np.moveaxis(a, 0, 1)\n",
        "b"
      ],
      "execution_count": 38,
      "outputs": [
        {
          "output_type": "stream",
          "name": "stdout",
          "text": [
            "[[[ 0  1  2  3]\n",
            "  [ 4  5  6  7]]\n",
            "\n",
            " [[ 8  9 10 11]\n",
            "  [12 13 14 15]]\n",
            "\n",
            " [[16 17 18 19]\n",
            "  [20 21 22 23]]]\n"
          ]
        },
        {
          "output_type": "execute_result",
          "data": {
            "text/plain": [
              "array([[[ 0,  1,  2,  3],\n",
              "        [ 8,  9, 10, 11],\n",
              "        [16, 17, 18, 19]],\n",
              "\n",
              "       [[ 4,  5,  6,  7],\n",
              "        [12, 13, 14, 15],\n",
              "        [20, 21, 22, 23]]])"
            ]
          },
          "metadata": {},
          "execution_count": 38
        }
      ]
    },
    {
      "cell_type": "code",
      "metadata": {
        "id": "6uVBGRFR1Yqu",
        "colab": {
          "base_uri": "https://localhost:8080/"
        },
        "outputId": "105b27d4-be8c-45ef-f9f5-62d364f1acba"
      },
      "source": [
        "#Put the specified axis first or in the specified position\n",
        "a = np.arange(24).reshape(2, 3, 4)\n",
        "print(a)\n",
        "b = np.rollaxis(a, 0, 2)\n",
        "b"
      ],
      "execution_count": 39,
      "outputs": [
        {
          "output_type": "stream",
          "name": "stdout",
          "text": [
            "[[[ 0  1  2  3]\n",
            "  [ 4  5  6  7]\n",
            "  [ 8  9 10 11]]\n",
            "\n",
            " [[12 13 14 15]\n",
            "  [16 17 18 19]\n",
            "  [20 21 22 23]]]\n"
          ]
        },
        {
          "output_type": "execute_result",
          "data": {
            "text/plain": [
              "array([[[ 0,  1,  2,  3],\n",
              "        [12, 13, 14, 15]],\n",
              "\n",
              "       [[ 4,  5,  6,  7],\n",
              "        [16, 17, 18, 19]],\n",
              "\n",
              "       [[ 8,  9, 10, 11],\n",
              "        [20, 21, 22, 23]]])"
            ]
          },
          "metadata": {},
          "execution_count": 39
        }
      ]
    },
    {
      "cell_type": "code",
      "metadata": {
        "id": "JaECjrOOIfcp",
        "colab": {
          "base_uri": "https://localhost:8080/"
        },
        "outputId": "dab798b1-0e2c-4137-83b8-88e0b2feb548"
      },
      "source": [
        "#Swap the two specified axes of the array\n",
        "a = np.arange(24).reshape(2, 3, 4)\n",
        "print(a)\n",
        "b = np.swapaxes(a, 0, 2)\n",
        "b "
      ],
      "execution_count": 40,
      "outputs": [
        {
          "output_type": "stream",
          "name": "stdout",
          "text": [
            "[[[ 0  1  2  3]\n",
            "  [ 4  5  6  7]\n",
            "  [ 8  9 10 11]]\n",
            "\n",
            " [[12 13 14 15]\n",
            "  [16 17 18 19]\n",
            "  [20 21 22 23]]]\n"
          ]
        },
        {
          "output_type": "execute_result",
          "data": {
            "text/plain": [
              "array([[[ 0, 12],\n",
              "        [ 4, 16],\n",
              "        [ 8, 20]],\n",
              "\n",
              "       [[ 1, 13],\n",
              "        [ 5, 17],\n",
              "        [ 9, 21]],\n",
              "\n",
              "       [[ 2, 14],\n",
              "        [ 6, 18],\n",
              "        [10, 22]],\n",
              "\n",
              "       [[ 3, 15],\n",
              "        [ 7, 19],\n",
              "        [11, 23]]])"
            ]
          },
          "metadata": {},
          "execution_count": 40
        }
      ]
    },
    {
      "cell_type": "code",
      "metadata": {
        "id": "vc4aR31KMO_E",
        "colab": {
          "base_uri": "https://localhost:8080/"
        },
        "outputId": "6b9b6a66-1eda-4944-c9bd-9056d8fd69ed"
      },
      "source": [
        "#Conversion of input data into a one-dimensional array\n",
        "np.atleast_1d(1, 2, 3, 4, 5)"
      ],
      "execution_count": 42,
      "outputs": [
        {
          "output_type": "execute_result",
          "data": {
            "text/plain": [
              "[array([1]), array([2]), array([3]), array([4]), array([5])]"
            ]
          },
          "metadata": {},
          "execution_count": 42
        }
      ]
    },
    {
      "cell_type": "code",
      "metadata": {
        "id": "pT8ztgD4P-_1",
        "colab": {
          "base_uri": "https://localhost:8080/"
        },
        "outputId": "26310d12-cebd-4b53-c603-385dbfc9e90b"
      },
      "source": [
        "#Add a new axis to the array. \n",
        "a = np.array([1, 2, 3])\n",
        "print(a)\n",
        "np.expand_dims(a, axis = 1) "
      ],
      "execution_count": 44,
      "outputs": [
        {
          "output_type": "stream",
          "name": "stdout",
          "text": [
            "[1 2 3]\n"
          ]
        },
        {
          "output_type": "execute_result",
          "data": {
            "text/plain": [
              "array([[1],\n",
              "       [2],\n",
              "       [3]])"
            ]
          },
          "metadata": {},
          "execution_count": 44
        }
      ]
    },
    {
      "cell_type": "code",
      "metadata": {
        "id": "2UB2YlqBYeU-",
        "colab": {
          "base_uri": "https://localhost:8080/"
        },
        "outputId": "7132db32-ca09-474a-e506-b1e09c3207d6"
      },
      "source": [
        "#Create an array by repeating the specified array \"a\" a specified number of times \n",
        "a = np.array([1, 7])\n",
        "np.tile(a, 3)"
      ],
      "execution_count": 46,
      "outputs": [
        {
          "output_type": "execute_result",
          "data": {
            "text/plain": [
              "array([1, 7, 1, 7, 1, 7])"
            ]
          },
          "metadata": {},
          "execution_count": 46
        }
      ]
    },
    {
      "cell_type": "code",
      "metadata": {
        "id": "be7-Y8OAZG4w",
        "colab": {
          "base_uri": "https://localhost:8080/"
        },
        "outputId": "f91b89ca-c92c-4594-98fc-48e0f84e40f1"
      },
      "source": [
        "#Repeat array elements \n",
        "a = np.array([8, 3])\n",
        "np.repeat(a, 3)"
      ],
      "execution_count": 47,
      "outputs": [
        {
          "output_type": "execute_result",
          "data": {
            "text/plain": [
              "array([8, 8, 8, 3, 3, 3])"
            ]
          },
          "metadata": {},
          "execution_count": 47
        }
      ]
    },
    {
      "cell_type": "code",
      "metadata": {
        "id": "Ys24zI_8ZWNX",
        "colab": {
          "base_uri": "https://localhost:8080/"
        },
        "outputId": "0834e66e-49fe-44d5-84b8-a3cb99f68c94"
      },
      "source": [
        "#Remove the specified elements on the specified axis\n",
        "a = np.arange(9)\n",
        "print(a)\n",
        "np.delete(a, 0)"
      ],
      "execution_count": 48,
      "outputs": [
        {
          "output_type": "stream",
          "name": "stdout",
          "text": [
            "[0 1 2 3 4 5 6 7 8]\n"
          ]
        },
        {
          "output_type": "execute_result",
          "data": {
            "text/plain": [
              "array([1, 2, 3, 4, 5, 6, 7, 8])"
            ]
          },
          "metadata": {},
          "execution_count": 48
        }
      ]
    },
    {
      "cell_type": "code",
      "metadata": {
        "id": "KWWqeBGMaLCc",
        "colab": {
          "base_uri": "https://localhost:8080/"
        },
        "outputId": "cdada584-a495-46fb-a6c4-188cfe5bb07c"
      },
      "source": [
        "#Put the specified items before the specified indexes on the specified axis\n",
        "a = np.arange(8)\n",
        "print(a)\n",
        "np.insert(a, 3, [11, 13])"
      ],
      "execution_count": 50,
      "outputs": [
        {
          "output_type": "stream",
          "name": "stdout",
          "text": [
            "[0 1 2 3 4 5 6 7]\n"
          ]
        },
        {
          "output_type": "execute_result",
          "data": {
            "text/plain": [
              "array([ 0,  1,  2, 11, 13,  3,  4,  5,  6,  7])"
            ]
          },
          "metadata": {},
          "execution_count": 50
        }
      ]
    },
    {
      "cell_type": "code",
      "metadata": {
        "id": "SeLMIGina4V_",
        "colab": {
          "base_uri": "https://localhost:8080/"
        },
        "outputId": "f4d42f99-15a9-4908-f532-43c8b43ec576"
      },
      "source": [
        "#Add elements to the end of the array\n",
        "a = np.array([1, 2, 8, 6])\n",
        "np.append(a, 19)"
      ],
      "execution_count": 52,
      "outputs": [
        {
          "output_type": "execute_result",
          "data": {
            "text/plain": [
              "array([ 1,  2,  8,  6, 19])"
            ]
          },
          "metadata": {},
          "execution_count": 52
        }
      ]
    },
    {
      "cell_type": "code",
      "metadata": {
        "id": "gAgv6fsXbgwj",
        "colab": {
          "base_uri": "https://localhost:8080/"
        },
        "outputId": "b7207330-6092-48f8-b2c5-62b0cefca0f9"
      },
      "source": [
        "a = np.array([0, 0, 0, 7, 5, 9, 0, 0, 0])\n",
        "print(np.trim_zeros(a)) # Remove zeros from the beginning and end\n",
        "print(np.trim_zeros(a, 'f')) # Remove zeros from the beginning only\n",
        "print(np.trim_zeros(a, 'b')) #Remove zeros from the end only"
      ],
      "execution_count": 53,
      "outputs": [
        {
          "output_type": "stream",
          "name": "stdout",
          "text": [
            "[7 5 9]\n",
            "[7 5 9 0 0 0]\n",
            "[0 0 0 7 5 9]\n"
          ]
        }
      ]
    },
    {
      "cell_type": "code",
      "metadata": {
        "id": "qUJaz9K7cNtO",
        "colab": {
          "base_uri": "https://localhost:8080/"
        },
        "outputId": "6f9bfed4-016e-46b5-9f08-238f131a7dba"
      },
      "source": [
        "#Find unique elements of the array\n",
        "np.unique([1, 17, 17, 17, 13, 7, 7, 7])"
      ],
      "execution_count": 54,
      "outputs": [
        {
          "output_type": "execute_result",
          "data": {
            "text/plain": [
              "array([ 1,  7, 13, 17])"
            ]
          },
          "metadata": {},
          "execution_count": 54
        }
      ]
    },
    {
      "cell_type": "code",
      "metadata": {
        "id": "rwVP3wzzcpsg",
        "colab": {
          "base_uri": "https://localhost:8080/"
        },
        "outputId": "99eb8d5d-5e11-4fe8-e78c-ad7d05c8a606"
      },
      "source": [
        "#Put the elements in reverse order along the specified axis without changing the size of the array\n",
        "a = np.array([2, 3, 15, 17])\n",
        "np.flip(a)"
      ],
      "execution_count": 55,
      "outputs": [
        {
          "output_type": "execute_result",
          "data": {
            "text/plain": [
              "array([17, 15,  3,  2])"
            ]
          },
          "metadata": {},
          "execution_count": 55
        }
      ]
    },
    {
      "cell_type": "code",
      "metadata": {
        "id": "S6ExcykZdNhH",
        "colab": {
          "base_uri": "https://localhost:8080/"
        },
        "outputId": "534e6bd4-94a7-4bcd-df4e-be27db050f66"
      },
      "source": [
        "a = np.array([[0,3,0],[7,0,4],[0,9,0]])\n",
        "print(a)\n",
        "#Turn 90 degrees counterclockwise\n",
        "print(np.rot90(a))\n",
        "#Turn 90 degrees clockwise\n",
        "print(np.rot90(a, k = -1))  "
      ],
      "execution_count": 56,
      "outputs": [
        {
          "output_type": "stream",
          "name": "stdout",
          "text": [
            "[[0 3 0]\n",
            " [7 0 4]\n",
            " [0 9 0]]\n",
            "[[0 4 0]\n",
            " [3 0 9]\n",
            " [0 7 0]]\n",
            "[[0 7 0]\n",
            " [9 0 3]\n",
            " [0 4 0]]\n"
          ]
        }
      ]
    }
  ]
}