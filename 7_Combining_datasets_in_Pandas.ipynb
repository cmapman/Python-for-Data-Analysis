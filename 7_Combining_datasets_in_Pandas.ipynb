{
  "nbformat": 4,
  "nbformat_minor": 0,
  "metadata": {
    "colab": {
      "name": "7 Combining datasets in Pandas.ipynb",
      "provenance": [],
      "collapsed_sections": []
    },
    "kernelspec": {
      "name": "python3",
      "display_name": "Python 3"
    }
  },
  "cells": [
    {
      "cell_type": "markdown",
      "metadata": {
        "id": "NHciTM8B52X2"
      },
      "source": [
        "# Combining datasets in Pandas"
      ]
    },
    {
      "cell_type": "markdown",
      "source": [
        "From: K.A."
      ],
      "metadata": {
        "id": "_jOQVvaJD5Eq"
      }
    },
    {
      "cell_type": "markdown",
      "metadata": {
        "id": "6atLrvuL76ZH"
      },
      "source": [
        "Combining datasets can provide many opportunities for research. Such joins can range from the simplest joins of two sets to more complex database joins that handle all possible set matches. \n",
        "\n",
        "First, we'll look at the Series and DataFrame objects using the pd.concat function. Then we'll explore merge and join with the pd.merge function.\n"
      ]
    },
    {
      "cell_type": "markdown",
      "metadata": {
        "id": "ZwXxQlLLs-2H"
      },
      "source": [
        "Don't forget to import the necessary libraries"
      ]
    },
    {
      "cell_type": "code",
      "metadata": {
        "id": "r0RXK0B-tEyV"
      },
      "source": [
        "import pandas as pd\n",
        "import numpy as np"
      ],
      "execution_count": 1,
      "outputs": []
    },
    {
      "cell_type": "markdown",
      "metadata": {
        "id": "yu49AWP8tbVO"
      },
      "source": [
        "Next, let's add a function that creates a DateFrame object of a specific form, which we will need next"
      ]
    },
    {
      "cell_type": "code",
      "metadata": {
        "id": "iyKVDxOit77D",
        "colab": {
          "base_uri": "https://localhost:8080/",
          "height": 143
        },
        "outputId": "7cb1ef25-3071-4229-bad4-8486ed62f16f"
      },
      "source": [
        "def make_df(cols, ind):\n",
        "  data = {c: [str(c) + str(i) for i in ind] for c in cols}           \n",
        "  return pd.DataFrame(data, ind)\n",
        "make_df('AVK', range(3))\n"
      ],
      "execution_count": 2,
      "outputs": [
        {
          "output_type": "execute_result",
          "data": {
            "text/plain": [
              "    A   V   K\n",
              "0  A0  V0  K0\n",
              "1  A1  V1  K1\n",
              "2  A2  V2  K2"
            ],
            "text/html": [
              "\n",
              "  <div id=\"df-25d5aaa3-b033-4722-9f47-f31eb55e4ecd\">\n",
              "    <div class=\"colab-df-container\">\n",
              "      <div>\n",
              "<style scoped>\n",
              "    .dataframe tbody tr th:only-of-type {\n",
              "        vertical-align: middle;\n",
              "    }\n",
              "\n",
              "    .dataframe tbody tr th {\n",
              "        vertical-align: top;\n",
              "    }\n",
              "\n",
              "    .dataframe thead th {\n",
              "        text-align: right;\n",
              "    }\n",
              "</style>\n",
              "<table border=\"1\" class=\"dataframe\">\n",
              "  <thead>\n",
              "    <tr style=\"text-align: right;\">\n",
              "      <th></th>\n",
              "      <th>A</th>\n",
              "      <th>V</th>\n",
              "      <th>K</th>\n",
              "    </tr>\n",
              "  </thead>\n",
              "  <tbody>\n",
              "    <tr>\n",
              "      <th>0</th>\n",
              "      <td>A0</td>\n",
              "      <td>V0</td>\n",
              "      <td>K0</td>\n",
              "    </tr>\n",
              "    <tr>\n",
              "      <th>1</th>\n",
              "      <td>A1</td>\n",
              "      <td>V1</td>\n",
              "      <td>K1</td>\n",
              "    </tr>\n",
              "    <tr>\n",
              "      <th>2</th>\n",
              "      <td>A2</td>\n",
              "      <td>V2</td>\n",
              "      <td>K2</td>\n",
              "    </tr>\n",
              "  </tbody>\n",
              "</table>\n",
              "</div>\n",
              "      <button class=\"colab-df-convert\" onclick=\"convertToInteractive('df-25d5aaa3-b033-4722-9f47-f31eb55e4ecd')\"\n",
              "              title=\"Convert this dataframe to an interactive table.\"\n",
              "              style=\"display:none;\">\n",
              "        \n",
              "  <svg xmlns=\"http://www.w3.org/2000/svg\" height=\"24px\"viewBox=\"0 0 24 24\"\n",
              "       width=\"24px\">\n",
              "    <path d=\"M0 0h24v24H0V0z\" fill=\"none\"/>\n",
              "    <path d=\"M18.56 5.44l.94 2.06.94-2.06 2.06-.94-2.06-.94-.94-2.06-.94 2.06-2.06.94zm-11 1L8.5 8.5l.94-2.06 2.06-.94-2.06-.94L8.5 2.5l-.94 2.06-2.06.94zm10 10l.94 2.06.94-2.06 2.06-.94-2.06-.94-.94-2.06-.94 2.06-2.06.94z\"/><path d=\"M17.41 7.96l-1.37-1.37c-.4-.4-.92-.59-1.43-.59-.52 0-1.04.2-1.43.59L10.3 9.45l-7.72 7.72c-.78.78-.78 2.05 0 2.83L4 21.41c.39.39.9.59 1.41.59.51 0 1.02-.2 1.41-.59l7.78-7.78 2.81-2.81c.8-.78.8-2.07 0-2.86zM5.41 20L4 18.59l7.72-7.72 1.47 1.35L5.41 20z\"/>\n",
              "  </svg>\n",
              "      </button>\n",
              "      \n",
              "  <style>\n",
              "    .colab-df-container {\n",
              "      display:flex;\n",
              "      flex-wrap:wrap;\n",
              "      gap: 12px;\n",
              "    }\n",
              "\n",
              "    .colab-df-convert {\n",
              "      background-color: #E8F0FE;\n",
              "      border: none;\n",
              "      border-radius: 50%;\n",
              "      cursor: pointer;\n",
              "      display: none;\n",
              "      fill: #1967D2;\n",
              "      height: 32px;\n",
              "      padding: 0 0 0 0;\n",
              "      width: 32px;\n",
              "    }\n",
              "\n",
              "    .colab-df-convert:hover {\n",
              "      background-color: #E2EBFA;\n",
              "      box-shadow: 0px 1px 2px rgba(60, 64, 67, 0.3), 0px 1px 3px 1px rgba(60, 64, 67, 0.15);\n",
              "      fill: #174EA6;\n",
              "    }\n",
              "\n",
              "    [theme=dark] .colab-df-convert {\n",
              "      background-color: #3B4455;\n",
              "      fill: #D2E3FC;\n",
              "    }\n",
              "\n",
              "    [theme=dark] .colab-df-convert:hover {\n",
              "      background-color: #434B5C;\n",
              "      box-shadow: 0px 1px 3px 1px rgba(0, 0, 0, 0.15);\n",
              "      filter: drop-shadow(0px 1px 2px rgba(0, 0, 0, 0.3));\n",
              "      fill: #FFFFFF;\n",
              "    }\n",
              "  </style>\n",
              "\n",
              "      <script>\n",
              "        const buttonEl =\n",
              "          document.querySelector('#df-25d5aaa3-b033-4722-9f47-f31eb55e4ecd button.colab-df-convert');\n",
              "        buttonEl.style.display =\n",
              "          google.colab.kernel.accessAllowed ? 'block' : 'none';\n",
              "\n",
              "        async function convertToInteractive(key) {\n",
              "          const element = document.querySelector('#df-25d5aaa3-b033-4722-9f47-f31eb55e4ecd');\n",
              "          const dataTable =\n",
              "            await google.colab.kernel.invokeFunction('convertToInteractive',\n",
              "                                                     [key], {});\n",
              "          if (!dataTable) return;\n",
              "\n",
              "          const docLinkHtml = 'Like what you see? Visit the ' +\n",
              "            '<a target=\"_blank\" href=https://colab.research.google.com/notebooks/data_table.ipynb>data table notebook</a>'\n",
              "            + ' to learn more about interactive tables.';\n",
              "          element.innerHTML = '';\n",
              "          dataTable['output_type'] = 'display_data';\n",
              "          await google.colab.output.renderOutput(dataTable, element);\n",
              "          const docLink = document.createElement('div');\n",
              "          docLink.innerHTML = docLinkHtml;\n",
              "          element.appendChild(docLink);\n",
              "        }\n",
              "      </script>\n",
              "    </div>\n",
              "  </div>\n",
              "  "
            ]
          },
          "metadata": {},
          "execution_count": 2
        }
      ]
    },
    {
      "cell_type": "markdown",
      "metadata": {
        "id": "ilnNA51uuYhT"
      },
      "source": [
        "Let's start with a simple concatenation using the pd.concat function.\n",
        "This function can be used for simple concatenation of Series or DataFrame objects"
      ]
    },
    {
      "cell_type": "code",
      "metadata": {
        "id": "2mwTYFhU1uev",
        "colab": {
          "base_uri": "https://localhost:8080/"
        },
        "outputId": "ee606527-249b-44d8-a4c0-b6892b2deaeb"
      },
      "source": [
        "ser1 = pd.Series(['A', 'V', 'K'], index=[1, 2, 3])       \n",
        "ser2 = pd.Series(['R', 'G', 'B'], index=[4, 5, 6])       \n",
        "pd.concat([ser1, ser2])\n"
      ],
      "execution_count": 3,
      "outputs": [
        {
          "output_type": "execute_result",
          "data": {
            "text/plain": [
              "1    A\n",
              "2    V\n",
              "3    K\n",
              "4    R\n",
              "5    G\n",
              "6    B\n",
              "dtype: object"
            ]
          },
          "metadata": {},
          "execution_count": 3
        }
      ]
    },
    {
      "cell_type": "code",
      "metadata": {
        "id": "I0oV_T1o6A6r",
        "colab": {
          "base_uri": "https://localhost:8080/"
        },
        "outputId": "6d01a2f7-b02e-48c6-c748-b5adc86fa510"
      },
      "source": [
        "df1 = make_df('CD', [1, 2])       \n",
        "df2 = make_df('CD', [3, 4])       \n",
        "print(\"df1\")\n",
        "print(df1)\n",
        "print(\"df2\")\n",
        "print(df2)\n",
        "print(\"pd.concat([df1, df2]\")\n",
        "print(pd.concat([df1, df2]))"
      ],
      "execution_count": 5,
      "outputs": [
        {
          "output_type": "stream",
          "name": "stdout",
          "text": [
            "df1\n",
            "    C   D\n",
            "1  C1  D1\n",
            "2  C2  D2\n",
            "df2\n",
            "    C   D\n",
            "3  C3  D3\n",
            "4  C4  D4\n",
            "pd.concat([df1, df2]\n",
            "    C   D\n",
            "1  C1  D1\n",
            "2  C2  D2\n",
            "3  C3  D3\n",
            "4  C4  D4\n"
          ]
        }
      ]
    },
    {
      "cell_type": "markdown",
      "metadata": {
        "id": "XbdN5ZME94kH"
      },
      "source": [
        "The concatenation takes place in the DataFrame object line by line"
      ]
    },
    {
      "cell_type": "code",
      "metadata": {
        "id": "2GDw5pYh-YM6",
        "colab": {
          "base_uri": "https://localhost:8080/"
        },
        "outputId": "b19d12a7-7e01-440a-d693-89a2f94e6c4b"
      },
      "source": [
        "df3 = make_df('AB', [0, 1])       \n",
        "df4 = make_df('CD', [0, 1])       \n",
        "print('df3')\n",
        "print(df3)\n",
        "print('df4')\n",
        "print(df4)\n",
        "print('pd.concat([df3, df4], axis=\"columns\")')\n",
        "print(pd.concat([df3, df4], axis=\"columns\"))  "
      ],
      "execution_count": 6,
      "outputs": [
        {
          "output_type": "stream",
          "name": "stdout",
          "text": [
            "df3\n",
            "    A   B\n",
            "0  A0  B0\n",
            "1  A1  B1\n",
            "df4\n",
            "    C   D\n",
            "0  C0  D0\n",
            "1  C1  D1\n",
            "pd.concat([df3, df4], axis=\"columns\")\n",
            "    A   B   C   D\n",
            "0  A0  B0  C0  D0\n",
            "1  A1  B1  C1  D1\n"
          ]
        }
      ]
    },
    {
      "cell_type": "markdown",
      "metadata": {
        "id": "QnOaRe4TAGDQ"
      },
      "source": [
        "We could have specified axis=1, but we used the more intuitive option axis=\"columns\".\n",
        "\n",
        "It is important to remember that the concatenation from Pandas preserves the indexes, even if they are duplicated"
      ]
    },
    {
      "cell_type": "code",
      "metadata": {
        "id": "elOnTYhLCj0q",
        "colab": {
          "base_uri": "https://localhost:8080/"
        },
        "outputId": "51acfaec-1968-48a3-97b1-5a1aa3b10d03"
      },
      "source": [
        "x = make_df('AV', [0, 1])       \n",
        "y = make_df('AV', [2, 3])       \n",
        "y.index = x.index  # Duplicate indexes      \n",
        "print(\"x\")\n",
        "print(x)\n",
        "print(\"y\")\n",
        "print(y)\n",
        "print(\"pd.concat([x, y])\") \n",
        "print(pd.concat([x, y])) "
      ],
      "execution_count": 7,
      "outputs": [
        {
          "output_type": "stream",
          "name": "stdout",
          "text": [
            "x\n",
            "    A   V\n",
            "0  A0  V0\n",
            "1  A1  V1\n",
            "y\n",
            "    A   V\n",
            "0  A2  V2\n",
            "1  A3  V3\n",
            "pd.concat([x, y])\n",
            "    A   V\n",
            "0  A0  V0\n",
            "1  A1  V1\n",
            "0  A2  V2\n",
            "1  A3  V3\n"
          ]
        }
      ]
    },
    {
      "cell_type": "markdown",
      "metadata": {
        "id": "TdTHfY3tC9Z5"
      },
      "source": [
        "Note the repeating indices, but sometimes this result can be incorrect. So there are several ways to solve this problem.\n",
        "\n",
        "One way to solve it is to specify ***verify_integrity***, which will output an error when the indexes are repeated. "
      ]
    },
    {
      "cell_type": "code",
      "metadata": {
        "id": "ONIorx28Dqso",
        "colab": {
          "base_uri": "https://localhost:8080/"
        },
        "outputId": "75226935-aa03-4d86-d191-e464f31ae525"
      },
      "source": [
        "try:            \n",
        "  pd.concat([x, y], verify_integrity=True)        \n",
        "except ValueError as e:            \n",
        "  print(\"ValueError:\", e)\n"
      ],
      "execution_count": 8,
      "outputs": [
        {
          "output_type": "stream",
          "name": "stdout",
          "text": [
            "ValueError: Indexes have overlapping values: Int64Index([0, 1], dtype='int64')\n"
          ]
        }
      ]
    },
    {
      "cell_type": "markdown",
      "metadata": {
        "id": "vXoqZhUzD34q"
      },
      "source": [
        "Another way to solve the index duplication problem is to ignore it.\n",
        "\n",
        "Sometimes the index does not matter and can be ignored by specifying ignore_index. If it is True, a new integer index will be created for the final result. "
      ]
    },
    {
      "cell_type": "code",
      "metadata": {
        "id": "oe7CIWenEcH7",
        "colab": {
          "base_uri": "https://localhost:8080/"
        },
        "outputId": "68a170aa-325c-467f-98df-69dd3f8aa702"
      },
      "source": [
        "print(\"x\")\n",
        "print(x)\n",
        "print(\"y\")\n",
        "print(y)\n",
        "print(\"pd.concat([x, y], ignore_index=True)\")\n",
        "print(pd.concat([x, y], ignore_index=True))"
      ],
      "execution_count": 9,
      "outputs": [
        {
          "output_type": "stream",
          "name": "stdout",
          "text": [
            "x\n",
            "    A   V\n",
            "0  A0  V0\n",
            "1  A1  V1\n",
            "y\n",
            "    A   V\n",
            "0  A2  V2\n",
            "1  A3  V3\n",
            "pd.concat([x, y], ignore_index=True)\n",
            "    A   V\n",
            "0  A0  V0\n",
            "1  A1  V1\n",
            "2  A2  V2\n",
            "3  A3  V3\n"
          ]
        }
      ]
    },
    {
      "cell_type": "markdown",
      "metadata": {
        "id": "zjAbNDVuEv7u"
      },
      "source": [
        "Another option is to add multi-index keys.  The result will be hierarchically indexed rows"
      ]
    },
    {
      "cell_type": "code",
      "metadata": {
        "id": "ERmcmaGfFYsQ",
        "colab": {
          "base_uri": "https://localhost:8080/"
        },
        "outputId": "f46d8470-58b9-47e7-fd2f-06800cba75f1"
      },
      "source": [
        "print(\"x\")\n",
        "print(x)\n",
        "print(\"y\")\n",
        "print(y)\n",
        "print(\"pd.concat([x, y], keys=['x', 'y'])\")\n",
        "print(pd.concat([x, y], keys=['x', 'y']))\n"
      ],
      "execution_count": 10,
      "outputs": [
        {
          "output_type": "stream",
          "name": "stdout",
          "text": [
            "x\n",
            "    A   V\n",
            "0  A0  V0\n",
            "1  A1  V1\n",
            "y\n",
            "    A   V\n",
            "0  A2  V2\n",
            "1  A3  V3\n",
            "pd.concat([x, y], keys=['x', 'y'])\n",
            "      A   V\n",
            "x 0  A0  V0\n",
            "  1  A1  V1\n",
            "y 0  A2  V2\n",
            "  1  A3  V3\n"
          ]
        }
      ]
    },
    {
      "cell_type": "markdown",
      "metadata": {
        "id": "5NzdvsZvFkLO"
      },
      "source": [
        "The result is a multi-indexed DataFrame object"
      ]
    },
    {
      "cell_type": "markdown",
      "metadata": {
        "id": "Hbc82EfmIzgF"
      },
      "source": [
        "### Concatenation using joins.\n",
        "\n",
        "In practice, data from different sources may have different sets of column names. The pd.concat() function has several options for this case. "
      ]
    },
    {
      "cell_type": "code",
      "metadata": {
        "id": "IVCsmjeII_Ra",
        "colab": {
          "base_uri": "https://localhost:8080/"
        },
        "outputId": "ed14f3e4-9b5f-4c81-b899-5deaae686511"
      },
      "source": [
        "df5 = make_df('ABC', [1, 2])        \n",
        "df6 = make_df('BCD', [3, 4])        \n",
        "print(\"df5\")\n",
        "print(df5)\n",
        "print(\"df6\")\n",
        "print(df6)\n",
        "print(\"pd.concat([df5, df6])\")\n",
        "print(pd.concat([df5, df6]))"
      ],
      "execution_count": 12,
      "outputs": [
        {
          "output_type": "stream",
          "name": "stdout",
          "text": [
            "df5\n",
            "    A   B   C\n",
            "1  A1  B1  C1\n",
            "2  A2  B2  C2\n",
            "df6\n",
            "    B   C   D\n",
            "3  B3  C3  D3\n",
            "4  B4  C4  D4\n",
            "pd.concat([df5, df6])\n",
            "     A   B   C    D\n",
            "1   A1  B1  C1  NaN\n",
            "2   A2  B2  C2  NaN\n",
            "3  NaN  B3  C3   D3\n",
            "4  NaN  B4  C4   D4\n"
          ]
        }
      ]
    },
    {
      "cell_type": "markdown",
      "metadata": {
        "id": "S8PMq8WBJTf-"
      },
      "source": [
        "By default, elements for which there is no data are filled with NA values. To change this, you can specify a value for the *join* option. By default the join is a union of the input columns, but it is possible to change this to an intersection of columns using **join='inner'**"
      ]
    },
    {
      "cell_type": "code",
      "metadata": {
        "id": "sqZQx1ANJoO1",
        "colab": {
          "base_uri": "https://localhost:8080/"
        },
        "outputId": "9f7771b5-2417-4d5c-d05e-4d068ee3f50f"
      },
      "source": [
        "print(\"df5\")\n",
        "print(df5)\n",
        "print(\"df6\")\n",
        "print(df6)\n",
        "print(\"pd.concat([df5, df6], join='inner')\")\n",
        "print(pd.concat([df5, df6], join='inner'))\n"
      ],
      "execution_count": 14,
      "outputs": [
        {
          "output_type": "stream",
          "name": "stdout",
          "text": [
            "df5\n",
            "    A   B   C\n",
            "1  A1  B1  C1\n",
            "2  A2  B2  C2\n",
            "df6\n",
            "    B   C   D\n",
            "3  B3  C3  D3\n",
            "4  B4  C4  D4\n",
            "pd.concat([df5, df6], join='inner')\n",
            "    B   C\n",
            "1  B1  C1\n",
            "2  B2  C2\n",
            "3  B3  C3\n",
            "4  B4  C4\n"
          ]
        }
      ]
    },
    {
      "cell_type": "markdown",
      "metadata": {
        "id": "wKCdqOne3sZa"
      },
      "source": [
        "Next, look at the append() method, which allows you to do the same thing, but with less effort"
      ]
    },
    {
      "cell_type": "code",
      "metadata": {
        "id": "rIyhqujf4Bj-",
        "colab": {
          "base_uri": "https://localhost:8080/"
        },
        "outputId": "14a0053b-b694-42a2-8dd2-c64354acd54e"
      },
      "source": [
        "print(\"df1\")\n",
        "print(df1)\n",
        "print(\"df2\")\n",
        "print(df2)\n",
        "print(\"df1.append(df2)\")\n",
        "print(df1.append(df2))\n"
      ],
      "execution_count": 15,
      "outputs": [
        {
          "output_type": "stream",
          "name": "stdout",
          "text": [
            "df1\n",
            "    C   D\n",
            "1  C1  D1\n",
            "2  C2  D2\n",
            "df2\n",
            "    C   D\n",
            "3  C3  D3\n",
            "4  C4  D4\n",
            "df1.append(df2)\n",
            "    C   D\n",
            "1  C1  D1\n",
            "2  C2  D2\n",
            "3  C3  D3\n",
            "4  C4  D4\n"
          ]
        }
      ]
    },
    {
      "cell_type": "markdown",
      "metadata": {
        "id": "nrBQZi4J7QSB"
      },
      "source": [
        "Unlike append() and extend() in Python, the append() method in Pandas does not change the original object, but creates a new object with merged data. This makes this method not very efficient because it creates a new index.\n",
        "\n",
        "Let's look at the join method with pd.merge(). In this method, there are three types of one-to-one, many-to-one, and many-to-many join and the same pd.merge() call.\n",
        "\n",
        "Let's start with one-to-one. This is the simplest way to merge, much like column concatenation."
      ]
    },
    {
      "cell_type": "code",
      "metadata": {
        "id": "k-XWf1r_B3tY",
        "colab": {
          "base_uri": "https://localhost:8080/"
        },
        "outputId": "074f255e-fb50-471c-da63-e62395ba56b8"
      },
      "source": [
        "df1 = pd.DataFrame({'id':['phone','pencil','pen','bottle','eraser'],                    \n",
        "                    'price': [12.33,11.44,33.21,13.23,33.62]})\n",
        "df2 = pd.DataFrame({'id':['pencil','bottle','phone','pen','eraser'],                    \n",
        "                    'color': ['white','red','pink','black','red']}) \n",
        "print(\"df1\")\n",
        "print(df1)\n",
        "print(\"df2\")\n",
        "print(df2)"
      ],
      "execution_count": 16,
      "outputs": [
        {
          "output_type": "stream",
          "name": "stdout",
          "text": [
            "df1\n",
            "       id  price\n",
            "0   phone  12.33\n",
            "1  pencil  11.44\n",
            "2     pen  33.21\n",
            "3  bottle  13.23\n",
            "4  eraser  33.62\n",
            "df2\n",
            "       id  color\n",
            "0  pencil  white\n",
            "1  bottle    red\n",
            "2   phone   pink\n",
            "3     pen  black\n",
            "4  eraser    red\n"
          ]
        }
      ]
    },
    {
      "cell_type": "markdown",
      "metadata": {
        "id": "5sxOhbtsKUo2"
      },
      "source": [
        "To merge these objects into one, use  pd.merge()"
      ]
    },
    {
      "cell_type": "code",
      "metadata": {
        "id": "8jdL5_ihKk4a",
        "colab": {
          "base_uri": "https://localhost:8080/"
        },
        "outputId": "79babd6f-71c7-4341-abdc-bff667f3779e"
      },
      "source": [
        "df3 = pd.merge(df1, df2)       \n",
        "print(\"df3\")\n",
        "print(df3)"
      ],
      "execution_count": 17,
      "outputs": [
        {
          "output_type": "stream",
          "name": "stdout",
          "text": [
            "df3\n",
            "       id  price  color\n",
            "0   phone  12.33   pink\n",
            "1  pencil  11.44  white\n",
            "2     pen  33.21  black\n",
            "3  bottle  13.23    red\n",
            "4  eraser  33.62    red\n"
          ]
        }
      ]
    },
    {
      "cell_type": "markdown",
      "metadata": {
        "id": "HNPZTV-VLEUY"
      },
      "source": [
        "The pd.merge() function recognizes that both DataFrame objects have an id column, and automatically performs the merge using that column as the key. The merge results in a new object that combines information from the two input objects.\n",
        "\n",
        "Now consider the \"many-to-one\" join method. In this method, one of the two columns contains repeating values.\n"
      ]
    },
    {
      "cell_type": "code",
      "metadata": {
        "id": "DZF_31D7LrYt",
        "colab": {
          "base_uri": "https://localhost:8080/"
        },
        "outputId": "4501cd58-cc04-4661-ba81-9f4af9a9848b"
      },
      "source": [
        "df4 = pd.DataFrame({'color': ['white','red','pink','black'],                           \n",
        "                     'brand': ['MLO','ABK','AVK','PDF']})       \n",
        "print(\"df3\")\n",
        "print(df3)\n",
        "print(\"df4\")\n",
        "print(df4)\n",
        "print(\"pd.merge(df3, df4)\")\n",
        "print(pd.merge(df3, df4))"
      ],
      "execution_count": 18,
      "outputs": [
        {
          "output_type": "stream",
          "name": "stdout",
          "text": [
            "df3\n",
            "       id  price  color\n",
            "0   phone  12.33   pink\n",
            "1  pencil  11.44  white\n",
            "2     pen  33.21  black\n",
            "3  bottle  13.23    red\n",
            "4  eraser  33.62    red\n",
            "df4\n",
            "   color brand\n",
            "0  white   MLO\n",
            "1    red   ABK\n",
            "2   pink   AVK\n",
            "3  black   PDF\n",
            "pd.merge(df3, df4)\n",
            "       id  price  color brand\n",
            "0   phone  12.33   pink   AVK\n",
            "1  pencil  11.44  white   MLO\n",
            "2     pen  33.21  black   PDF\n",
            "3  bottle  13.23    red   ABK\n",
            "4  eraser  33.62    red   ABK\n"
          ]
        }
      ]
    },
    {
      "cell_type": "markdown",
      "metadata": {
        "id": "hwzDmY96NQET"
      },
      "source": [
        "The resulting DataFrame object has an additional column with brand information, with information repeated in one or more places according to the data entered.\n",
        "\n",
        "Next, consider the \"many-to-many\" joining method."
      ]
    },
    {
      "cell_type": "code",
      "metadata": {
        "id": "u0dXV_PvOBHK",
        "colab": {
          "base_uri": "https://localhost:8080/"
        },
        "outputId": "c0b2c1cb-9228-434b-9e5a-583bda1ab5ef"
      },
      "source": [
        "df5 = pd.DataFrame({'color': ['white','red','red','pink','black','black'],                           \n",
        "                     'skills': ['math', 'ML', 'coding','AI','ML', 'Python']}) \n",
        "print(\"df1\")\n",
        "print(df1)\n",
        "print(\"df5\")\n",
        "print(df5)\n",
        "print(\"pd.merge(df1, df5)\")\n",
        "print(pd.merge(df2, df5))\n"
      ],
      "execution_count": 19,
      "outputs": [
        {
          "output_type": "stream",
          "name": "stdout",
          "text": [
            "df1\n",
            "       id  price\n",
            "0   phone  12.33\n",
            "1  pencil  11.44\n",
            "2     pen  33.21\n",
            "3  bottle  13.23\n",
            "4  eraser  33.62\n",
            "df5\n",
            "   color  skills\n",
            "0  white    math\n",
            "1    red      ML\n",
            "2    red  coding\n",
            "3   pink      AI\n",
            "4  black      ML\n",
            "5  black  Python\n",
            "pd.merge(df1, df5)\n",
            "       id  color  skills\n",
            "0  pencil  white    math\n",
            "1  bottle    red      ML\n",
            "2  bottle    red  coding\n",
            "3  eraser    red      ML\n",
            "4  eraser    red  coding\n",
            "5   phone   pink      AI\n",
            "6     pen  black      ML\n",
            "7     pen  black  Python\n"
          ]
        }
      ]
    },
    {
      "cell_type": "markdown",
      "metadata": {
        "id": "OLboOYhepukk"
      },
      "source": [
        "Now let's look at the way by setting the merge key. The names of the columns do not match exactly, so there are parameters for this situation.\n",
        "\n",
        "One of these parameters is the keyword \"on\". This is one of the simplest ways, in which you specify a name or a list of column names"
      ]
    },
    {
      "cell_type": "code",
      "metadata": {
        "id": "bwwaaayCqqL_",
        "colab": {
          "base_uri": "https://localhost:8080/"
        },
        "outputId": "bbcefc6b-557e-48e9-e54a-90daac70c8e0"
      },
      "source": [
        "print(\"df1\")\n",
        "print(df1)\n",
        "print(\"df2\")\n",
        "print(df2)\n",
        "print(\"pd.merge(df1, df2, on='id')\")\n",
        "print(pd.merge(df1, df2, on='id'))"
      ],
      "execution_count": 20,
      "outputs": [
        {
          "output_type": "stream",
          "name": "stdout",
          "text": [
            "df1\n",
            "       id  price\n",
            "0   phone  12.33\n",
            "1  pencil  11.44\n",
            "2     pen  33.21\n",
            "3  bottle  13.23\n",
            "4  eraser  33.62\n",
            "df2\n",
            "       id  color\n",
            "0  pencil  white\n",
            "1  bottle    red\n",
            "2   phone   pink\n",
            "3     pen  black\n",
            "4  eraser    red\n",
            "pd.merge(df1, df2, on='id')\n",
            "       id  price  color\n",
            "0   phone  12.33   pink\n",
            "1  pencil  11.44  white\n",
            "2     pen  33.21  black\n",
            "3  bottle  13.23    red\n",
            "4  eraser  33.62    red\n"
          ]
        }
      ]
    },
    {
      "cell_type": "markdown",
      "metadata": {
        "id": "vf5eZLRdq_1L"
      },
      "source": [
        "This parameter works only when the left and right DataFrame objects have the specified column name.\n",
        "\n",
        "The next parameter we will consider is the \"left_on\" and \"right_on\" parameters. This method is convenient when you have to merge two datasets with different column names. In this case, you can use the keywords \"left_on\" and \"right_on\" to specify the names of the two columns you want"
      ]
    },
    {
      "cell_type": "code",
      "metadata": {
        "id": "rjPuOpTXrvAi",
        "colab": {
          "base_uri": "https://localhost:8080/"
        },
        "outputId": "d280f46c-bc2b-4bf2-f774-6aadd1b64fcf"
      },
      "source": [
        "df3 = pd.DataFrame({'title':['phone','pencil','pen','bottle','eraser'],\n",
        "                    'commission': [7, 8, 6, 9,5]}) \n",
        "print(\"df1\")\n",
        "print(df1)\n",
        "print(\"df3\")\n",
        "print(df3)\n",
        "print(\"pd.merge(df1, df3, left_on='id', right_on='title')\")\n",
        "print(pd.merge(df1, df3, left_on=\"id\", right_on=\"title\"))"
      ],
      "execution_count": 21,
      "outputs": [
        {
          "output_type": "stream",
          "name": "stdout",
          "text": [
            "df1\n",
            "       id  price\n",
            "0   phone  12.33\n",
            "1  pencil  11.44\n",
            "2     pen  33.21\n",
            "3  bottle  13.23\n",
            "4  eraser  33.62\n",
            "df3\n",
            "    title  commission\n",
            "0   phone           7\n",
            "1  pencil           8\n",
            "2     pen           6\n",
            "3  bottle           9\n",
            "4  eraser           5\n",
            "pd.merge(df1, df3, left_on='id', right_on='title')\n",
            "       id  price   title  commission\n",
            "0   phone  12.33   phone           7\n",
            "1  pencil  11.44  pencil           8\n",
            "2     pen  33.21     pen           6\n",
            "3  bottle  13.23  bottle           9\n",
            "4  eraser  33.62  eraser           5\n"
          ]
        }
      ]
    },
    {
      "cell_type": "markdown",
      "metadata": {
        "id": "iPbqrDtotKdB"
      },
      "source": [
        "The result of this action contains a redundant column that can be deleted if desired. For example, using the drop() method available in DataFrame objects"
      ]
    },
    {
      "cell_type": "code",
      "metadata": {
        "id": "fCyP8kzftLvB",
        "colab": {
          "base_uri": "https://localhost:8080/",
          "height": 206
        },
        "outputId": "003cd482-59f9-4204-dc37-0da07384e658"
      },
      "source": [
        "pd.merge(df1, df3, left_on=\"id\", right_on=\"title\").drop('title', axis=1)"
      ],
      "execution_count": 22,
      "outputs": [
        {
          "output_type": "execute_result",
          "data": {
            "text/plain": [
              "       id  price  commission\n",
              "0   phone  12.33           7\n",
              "1  pencil  11.44           8\n",
              "2     pen  33.21           6\n",
              "3  bottle  13.23           9\n",
              "4  eraser  33.62           5"
            ],
            "text/html": [
              "\n",
              "  <div id=\"df-ab512777-84f6-4f6c-86c9-f8e86f00219e\">\n",
              "    <div class=\"colab-df-container\">\n",
              "      <div>\n",
              "<style scoped>\n",
              "    .dataframe tbody tr th:only-of-type {\n",
              "        vertical-align: middle;\n",
              "    }\n",
              "\n",
              "    .dataframe tbody tr th {\n",
              "        vertical-align: top;\n",
              "    }\n",
              "\n",
              "    .dataframe thead th {\n",
              "        text-align: right;\n",
              "    }\n",
              "</style>\n",
              "<table border=\"1\" class=\"dataframe\">\n",
              "  <thead>\n",
              "    <tr style=\"text-align: right;\">\n",
              "      <th></th>\n",
              "      <th>id</th>\n",
              "      <th>price</th>\n",
              "      <th>commission</th>\n",
              "    </tr>\n",
              "  </thead>\n",
              "  <tbody>\n",
              "    <tr>\n",
              "      <th>0</th>\n",
              "      <td>phone</td>\n",
              "      <td>12.33</td>\n",
              "      <td>7</td>\n",
              "    </tr>\n",
              "    <tr>\n",
              "      <th>1</th>\n",
              "      <td>pencil</td>\n",
              "      <td>11.44</td>\n",
              "      <td>8</td>\n",
              "    </tr>\n",
              "    <tr>\n",
              "      <th>2</th>\n",
              "      <td>pen</td>\n",
              "      <td>33.21</td>\n",
              "      <td>6</td>\n",
              "    </tr>\n",
              "    <tr>\n",
              "      <th>3</th>\n",
              "      <td>bottle</td>\n",
              "      <td>13.23</td>\n",
              "      <td>9</td>\n",
              "    </tr>\n",
              "    <tr>\n",
              "      <th>4</th>\n",
              "      <td>eraser</td>\n",
              "      <td>33.62</td>\n",
              "      <td>5</td>\n",
              "    </tr>\n",
              "  </tbody>\n",
              "</table>\n",
              "</div>\n",
              "      <button class=\"colab-df-convert\" onclick=\"convertToInteractive('df-ab512777-84f6-4f6c-86c9-f8e86f00219e')\"\n",
              "              title=\"Convert this dataframe to an interactive table.\"\n",
              "              style=\"display:none;\">\n",
              "        \n",
              "  <svg xmlns=\"http://www.w3.org/2000/svg\" height=\"24px\"viewBox=\"0 0 24 24\"\n",
              "       width=\"24px\">\n",
              "    <path d=\"M0 0h24v24H0V0z\" fill=\"none\"/>\n",
              "    <path d=\"M18.56 5.44l.94 2.06.94-2.06 2.06-.94-2.06-.94-.94-2.06-.94 2.06-2.06.94zm-11 1L8.5 8.5l.94-2.06 2.06-.94-2.06-.94L8.5 2.5l-.94 2.06-2.06.94zm10 10l.94 2.06.94-2.06 2.06-.94-2.06-.94-.94-2.06-.94 2.06-2.06.94z\"/><path d=\"M17.41 7.96l-1.37-1.37c-.4-.4-.92-.59-1.43-.59-.52 0-1.04.2-1.43.59L10.3 9.45l-7.72 7.72c-.78.78-.78 2.05 0 2.83L4 21.41c.39.39.9.59 1.41.59.51 0 1.02-.2 1.41-.59l7.78-7.78 2.81-2.81c.8-.78.8-2.07 0-2.86zM5.41 20L4 18.59l7.72-7.72 1.47 1.35L5.41 20z\"/>\n",
              "  </svg>\n",
              "      </button>\n",
              "      \n",
              "  <style>\n",
              "    .colab-df-container {\n",
              "      display:flex;\n",
              "      flex-wrap:wrap;\n",
              "      gap: 12px;\n",
              "    }\n",
              "\n",
              "    .colab-df-convert {\n",
              "      background-color: #E8F0FE;\n",
              "      border: none;\n",
              "      border-radius: 50%;\n",
              "      cursor: pointer;\n",
              "      display: none;\n",
              "      fill: #1967D2;\n",
              "      height: 32px;\n",
              "      padding: 0 0 0 0;\n",
              "      width: 32px;\n",
              "    }\n",
              "\n",
              "    .colab-df-convert:hover {\n",
              "      background-color: #E2EBFA;\n",
              "      box-shadow: 0px 1px 2px rgba(60, 64, 67, 0.3), 0px 1px 3px 1px rgba(60, 64, 67, 0.15);\n",
              "      fill: #174EA6;\n",
              "    }\n",
              "\n",
              "    [theme=dark] .colab-df-convert {\n",
              "      background-color: #3B4455;\n",
              "      fill: #D2E3FC;\n",
              "    }\n",
              "\n",
              "    [theme=dark] .colab-df-convert:hover {\n",
              "      background-color: #434B5C;\n",
              "      box-shadow: 0px 1px 3px 1px rgba(0, 0, 0, 0.15);\n",
              "      filter: drop-shadow(0px 1px 2px rgba(0, 0, 0, 0.3));\n",
              "      fill: #FFFFFF;\n",
              "    }\n",
              "  </style>\n",
              "\n",
              "      <script>\n",
              "        const buttonEl =\n",
              "          document.querySelector('#df-ab512777-84f6-4f6c-86c9-f8e86f00219e button.colab-df-convert');\n",
              "        buttonEl.style.display =\n",
              "          google.colab.kernel.accessAllowed ? 'block' : 'none';\n",
              "\n",
              "        async function convertToInteractive(key) {\n",
              "          const element = document.querySelector('#df-ab512777-84f6-4f6c-86c9-f8e86f00219e');\n",
              "          const dataTable =\n",
              "            await google.colab.kernel.invokeFunction('convertToInteractive',\n",
              "                                                     [key], {});\n",
              "          if (!dataTable) return;\n",
              "\n",
              "          const docLinkHtml = 'Like what you see? Visit the ' +\n",
              "            '<a target=\"_blank\" href=https://colab.research.google.com/notebooks/data_table.ipynb>data table notebook</a>'\n",
              "            + ' to learn more about interactive tables.';\n",
              "          element.innerHTML = '';\n",
              "          dataTable['output_type'] = 'display_data';\n",
              "          await google.colab.output.renderOutput(dataTable, element);\n",
              "          const docLink = document.createElement('div');\n",
              "          docLink.innerHTML = docLinkHtml;\n",
              "          element.appendChild(docLink);\n",
              "        }\n",
              "      </script>\n",
              "    </div>\n",
              "  </div>\n",
              "  "
            ]
          },
          "metadata": {},
          "execution_count": 22
        }
      ]
    },
    {
      "cell_type": "markdown",
      "metadata": {
        "id": "1OoRKyzitgjT"
      },
      "source": [
        "The parameters left_index and right_index are convenient for index merging"
      ]
    },
    {
      "cell_type": "code",
      "metadata": {
        "id": "ycOtSQC2t7As",
        "colab": {
          "base_uri": "https://localhost:8080/"
        },
        "outputId": "92db7f3f-3be9-481d-8dde-59ca9d40ad60"
      },
      "source": [
        "df1a = df1.set_index('id')       \n",
        "df2a = df2.set_index('id')       \n",
        "print(\"df1a\")\n",
        "print(df1a)\n",
        "print(\"df2a\")\n",
        "print(df2a)"
      ],
      "execution_count": 23,
      "outputs": [
        {
          "output_type": "stream",
          "name": "stdout",
          "text": [
            "df1a\n",
            "        price\n",
            "id           \n",
            "phone   12.33\n",
            "pencil  11.44\n",
            "pen     33.21\n",
            "bottle  13.23\n",
            "eraser  33.62\n",
            "df2a\n",
            "        color\n",
            "id           \n",
            "pencil  white\n",
            "bottle    red\n",
            "phone    pink\n",
            "pen     black\n",
            "eraser    red\n"
          ]
        }
      ]
    },
    {
      "cell_type": "markdown",
      "metadata": {
        "id": "mbJG6Oa3uJFW"
      },
      "source": [
        "You can use an index as a merge key by specifying the flags left_index and/or right_index in the pd.merge() method"
      ]
    },
    {
      "cell_type": "code",
      "metadata": {
        "id": "WajlmNd8uK7v",
        "colab": {
          "base_uri": "https://localhost:8080/"
        },
        "outputId": "64049410-c304-4013-c31a-ecf77ff7a76f"
      },
      "source": [
        "print('df1a')\n",
        "print(df1a)\n",
        "print('df2a')\n",
        "print(df2a)\n",
        "print('pd.merge(df1a, df2a, left_index=True, right_index=True)')\n",
        "print(pd.merge(df1a, df2a, left_index=True, right_index=True))"
      ],
      "execution_count": 24,
      "outputs": [
        {
          "output_type": "stream",
          "name": "stdout",
          "text": [
            "df1a\n",
            "        price\n",
            "id           \n",
            "phone   12.33\n",
            "pencil  11.44\n",
            "pen     33.21\n",
            "bottle  13.23\n",
            "eraser  33.62\n",
            "df2a\n",
            "        color\n",
            "id           \n",
            "pencil  white\n",
            "bottle    red\n",
            "phone    pink\n",
            "pen     black\n",
            "eraser    red\n",
            "pd.merge(df1a, df2a, left_index=True, right_index=True)\n",
            "        price  color\n",
            "id                  \n",
            "phone   12.33   pink\n",
            "pencil  11.44  white\n",
            "pen     33.21  black\n",
            "bottle  13.23    red\n",
            "eraser  33.62    red\n"
          ]
        }
      ]
    },
    {
      "cell_type": "markdown",
      "metadata": {
        "id": "iJ9Od_HCuZwh"
      },
      "source": [
        "There is a join() method in DataFrame objects that performs index merge by default"
      ]
    },
    {
      "cell_type": "code",
      "metadata": {
        "id": "tcm30M1Buajq",
        "colab": {
          "base_uri": "https://localhost:8080/"
        },
        "outputId": "58d76670-5f68-4125-f85b-c0336744d59f"
      },
      "source": [
        "print('df1a')\n",
        "print(df1a)\n",
        "print('df2a')\n",
        "print(df2a)\n",
        "print('df1a.join(df2a)')\n",
        "print(df1a.join(df2a))"
      ],
      "execution_count": 25,
      "outputs": [
        {
          "output_type": "stream",
          "name": "stdout",
          "text": [
            "df1a\n",
            "        price\n",
            "id           \n",
            "phone   12.33\n",
            "pencil  11.44\n",
            "pen     33.21\n",
            "bottle  13.23\n",
            "eraser  33.62\n",
            "df2a\n",
            "        color\n",
            "id           \n",
            "pencil  white\n",
            "bottle    red\n",
            "phone    pink\n",
            "pen     black\n",
            "eraser    red\n",
            "df1a.join(df2a)\n",
            "        price  color\n",
            "id                  \n",
            "phone   12.33   pink\n",
            "pencil  11.44  white\n",
            "pen     33.21  black\n",
            "bottle  13.23    red\n",
            "eraser  33.62    red\n"
          ]
        }
      ]
    },
    {
      "cell_type": "markdown",
      "metadata": {
        "id": "TybN-vj_uo4B"
      },
      "source": [
        "If a combination of column and index merges is required, then use a combination of the \"left_index\" flag with the \"right_on\" parameter or the \"left_on\" parameter with the \"right_index\" flag"
      ]
    },
    {
      "cell_type": "code",
      "metadata": {
        "id": "dNo_Cbv3uz4J",
        "colab": {
          "base_uri": "https://localhost:8080/"
        },
        "outputId": "9d451b0d-d562-4651-b81d-1fe035f276cb"
      },
      "source": [
        "print(\"df1a\")\n",
        "print(df1a)\n",
        "print(\"df3\")\n",
        "print(df3)\n",
        "print(\"pd.merge(df1a, df3, left_index=True, right_on='title')\")\n",
        "print(pd.merge(df1a, df3, left_index=True, right_on='title'))"
      ],
      "execution_count": 26,
      "outputs": [
        {
          "output_type": "stream",
          "name": "stdout",
          "text": [
            "df1a\n",
            "        price\n",
            "id           \n",
            "phone   12.33\n",
            "pencil  11.44\n",
            "pen     33.21\n",
            "bottle  13.23\n",
            "eraser  33.62\n",
            "df3\n",
            "    title  commission\n",
            "0   phone           7\n",
            "1  pencil           8\n",
            "2     pen           6\n",
            "3  bottle           9\n",
            "4  eraser           5\n",
            "pd.merge(df1a, df3, left_index=True, right_on='title')\n",
            "   price   title  commission\n",
            "0  12.33   phone           7\n",
            "1  11.44  pencil           8\n",
            "2  33.21     pen           6\n",
            "3  13.23  bottle           9\n",
            "4  33.62  eraser           5\n"
          ]
        }
      ]
    },
    {
      "cell_type": "markdown",
      "metadata": {
        "id": "EomPs3o1vIJX"
      },
      "source": [
        "Let's consider the case when some value is in one key column, but not in the other"
      ]
    },
    {
      "cell_type": "code",
      "metadata": {
        "id": "3pDSnvPCzt6v",
        "colab": {
          "base_uri": "https://localhost:8080/"
        },
        "outputId": "cd25f3b6-b8e9-4652-e2c3-124c457d0960"
      },
      "source": [
        "df6 = pd.DataFrame({'name': ['John', 'Katie', 'Linda'],\n",
        "                     'food': ['water', 'potato', 'onion']},\n",
        "                      columns=['name', 'food'])        \n",
        "df7 = pd.DataFrame({'name': ['Linda', 'Duo'],\n",
        "                     'drink': ['juice', 'milk']},\n",
        "                      columns=['name', 'drink'])       \n",
        "print(\"df6\")\n",
        "print(df6)\n",
        "print(\"df7\")\n",
        "print(df7)\n",
        "print(\"pd.merge(df6, df7)\")\n",
        "print(pd.merge(df6, df7))"
      ],
      "execution_count": 30,
      "outputs": [
        {
          "output_type": "stream",
          "name": "stdout",
          "text": [
            "df6\n",
            "    name    food\n",
            "0   John   water\n",
            "1  Katie  potato\n",
            "2  Linda   onion\n",
            "df7\n",
            "    name  drink\n",
            "0  Linda  juice\n",
            "1    Duo   milk\n",
            "pd.merge(df6, df7)\n",
            "    name   food  drink\n",
            "0  Linda  onion  juice\n"
          ]
        }
      ]
    },
    {
      "cell_type": "markdown",
      "metadata": {
        "id": "mDF7Py5h1X1o"
      },
      "source": [
        "Here we merged two datasets with only one name record matching: Linda. By default, the result will contain the intersection of the two input sets - an inner join. You can specify this explicitly with the how keyword, which has the default value 'inner'"
      ]
    },
    {
      "cell_type": "code",
      "metadata": {
        "id": "ZqPuOtIm1dl8",
        "colab": {
          "base_uri": "https://localhost:8080/",
          "height": 81
        },
        "outputId": "91460b68-bb63-4e0d-f318-1ed44e5ce8b7"
      },
      "source": [
        "pd.merge(df6, df7, how='inner')\n"
      ],
      "execution_count": 31,
      "outputs": [
        {
          "output_type": "execute_result",
          "data": {
            "text/plain": [
              "    name   food  drink\n",
              "0  Linda  onion  juice"
            ],
            "text/html": [
              "\n",
              "  <div id=\"df-13337968-46f0-4cb3-8713-1748d4666dad\">\n",
              "    <div class=\"colab-df-container\">\n",
              "      <div>\n",
              "<style scoped>\n",
              "    .dataframe tbody tr th:only-of-type {\n",
              "        vertical-align: middle;\n",
              "    }\n",
              "\n",
              "    .dataframe tbody tr th {\n",
              "        vertical-align: top;\n",
              "    }\n",
              "\n",
              "    .dataframe thead th {\n",
              "        text-align: right;\n",
              "    }\n",
              "</style>\n",
              "<table border=\"1\" class=\"dataframe\">\n",
              "  <thead>\n",
              "    <tr style=\"text-align: right;\">\n",
              "      <th></th>\n",
              "      <th>name</th>\n",
              "      <th>food</th>\n",
              "      <th>drink</th>\n",
              "    </tr>\n",
              "  </thead>\n",
              "  <tbody>\n",
              "    <tr>\n",
              "      <th>0</th>\n",
              "      <td>Linda</td>\n",
              "      <td>onion</td>\n",
              "      <td>juice</td>\n",
              "    </tr>\n",
              "  </tbody>\n",
              "</table>\n",
              "</div>\n",
              "      <button class=\"colab-df-convert\" onclick=\"convertToInteractive('df-13337968-46f0-4cb3-8713-1748d4666dad')\"\n",
              "              title=\"Convert this dataframe to an interactive table.\"\n",
              "              style=\"display:none;\">\n",
              "        \n",
              "  <svg xmlns=\"http://www.w3.org/2000/svg\" height=\"24px\"viewBox=\"0 0 24 24\"\n",
              "       width=\"24px\">\n",
              "    <path d=\"M0 0h24v24H0V0z\" fill=\"none\"/>\n",
              "    <path d=\"M18.56 5.44l.94 2.06.94-2.06 2.06-.94-2.06-.94-.94-2.06-.94 2.06-2.06.94zm-11 1L8.5 8.5l.94-2.06 2.06-.94-2.06-.94L8.5 2.5l-.94 2.06-2.06.94zm10 10l.94 2.06.94-2.06 2.06-.94-2.06-.94-.94-2.06-.94 2.06-2.06.94z\"/><path d=\"M17.41 7.96l-1.37-1.37c-.4-.4-.92-.59-1.43-.59-.52 0-1.04.2-1.43.59L10.3 9.45l-7.72 7.72c-.78.78-.78 2.05 0 2.83L4 21.41c.39.39.9.59 1.41.59.51 0 1.02-.2 1.41-.59l7.78-7.78 2.81-2.81c.8-.78.8-2.07 0-2.86zM5.41 20L4 18.59l7.72-7.72 1.47 1.35L5.41 20z\"/>\n",
              "  </svg>\n",
              "      </button>\n",
              "      \n",
              "  <style>\n",
              "    .colab-df-container {\n",
              "      display:flex;\n",
              "      flex-wrap:wrap;\n",
              "      gap: 12px;\n",
              "    }\n",
              "\n",
              "    .colab-df-convert {\n",
              "      background-color: #E8F0FE;\n",
              "      border: none;\n",
              "      border-radius: 50%;\n",
              "      cursor: pointer;\n",
              "      display: none;\n",
              "      fill: #1967D2;\n",
              "      height: 32px;\n",
              "      padding: 0 0 0 0;\n",
              "      width: 32px;\n",
              "    }\n",
              "\n",
              "    .colab-df-convert:hover {\n",
              "      background-color: #E2EBFA;\n",
              "      box-shadow: 0px 1px 2px rgba(60, 64, 67, 0.3), 0px 1px 3px 1px rgba(60, 64, 67, 0.15);\n",
              "      fill: #174EA6;\n",
              "    }\n",
              "\n",
              "    [theme=dark] .colab-df-convert {\n",
              "      background-color: #3B4455;\n",
              "      fill: #D2E3FC;\n",
              "    }\n",
              "\n",
              "    [theme=dark] .colab-df-convert:hover {\n",
              "      background-color: #434B5C;\n",
              "      box-shadow: 0px 1px 3px 1px rgba(0, 0, 0, 0.15);\n",
              "      filter: drop-shadow(0px 1px 2px rgba(0, 0, 0, 0.3));\n",
              "      fill: #FFFFFF;\n",
              "    }\n",
              "  </style>\n",
              "\n",
              "      <script>\n",
              "        const buttonEl =\n",
              "          document.querySelector('#df-13337968-46f0-4cb3-8713-1748d4666dad button.colab-df-convert');\n",
              "        buttonEl.style.display =\n",
              "          google.colab.kernel.accessAllowed ? 'block' : 'none';\n",
              "\n",
              "        async function convertToInteractive(key) {\n",
              "          const element = document.querySelector('#df-13337968-46f0-4cb3-8713-1748d4666dad');\n",
              "          const dataTable =\n",
              "            await google.colab.kernel.invokeFunction('convertToInteractive',\n",
              "                                                     [key], {});\n",
              "          if (!dataTable) return;\n",
              "\n",
              "          const docLinkHtml = 'Like what you see? Visit the ' +\n",
              "            '<a target=\"_blank\" href=https://colab.research.google.com/notebooks/data_table.ipynb>data table notebook</a>'\n",
              "            + ' to learn more about interactive tables.';\n",
              "          element.innerHTML = '';\n",
              "          dataTable['output_type'] = 'display_data';\n",
              "          await google.colab.output.renderOutput(dataTable, element);\n",
              "          const docLink = document.createElement('div');\n",
              "          docLink.innerHTML = docLinkHtml;\n",
              "          element.appendChild(docLink);\n",
              "        }\n",
              "      </script>\n",
              "    </div>\n",
              "  </div>\n",
              "  "
            ]
          },
          "metadata": {},
          "execution_count": 31
        }
      ]
    },
    {
      "cell_type": "markdown",
      "metadata": {
        "id": "Gaax4oHX1i9I"
      },
      "source": [
        "Other possible meanings of the keyword 'how' are 'outer', 'left' and 'right'. \"Outer join\" means join by union of input columns and fills with NA values all missing values"
      ]
    },
    {
      "cell_type": "code",
      "metadata": {
        "id": "AxQ3uuAH1jyd",
        "colab": {
          "base_uri": "https://localhost:8080/"
        },
        "outputId": "af40398d-ff67-485a-8ab7-292e75490643"
      },
      "source": [
        "print(\"df6\")\n",
        "print(df6)\n",
        "print(\"df7\")\n",
        "print(df7)\n",
        "print(\"pd.merge(df6, df7, how='outer')\")\n",
        "print(pd.merge(df6, df7, how='outer'))"
      ],
      "execution_count": 32,
      "outputs": [
        {
          "output_type": "stream",
          "name": "stdout",
          "text": [
            "df6\n",
            "    name    food\n",
            "0   John   water\n",
            "1  Katie  potato\n",
            "2  Linda   onion\n",
            "df7\n",
            "    name  drink\n",
            "0  Linda  juice\n",
            "1    Duo   milk\n",
            "pd.merge(df6, df7, how='outer')\n",
            "    name    food  drink\n",
            "0   John   water    NaN\n",
            "1  Katie  potato    NaN\n",
            "2  Linda   onion  juice\n",
            "3    Duo     NaN   milk\n"
          ]
        }
      ]
    },
    {
      "cell_type": "markdown",
      "metadata": {
        "id": "4RqqunVh13oK"
      },
      "source": [
        "The left join and the right join perform the joining of the left and right values, respectively"
      ]
    },
    {
      "cell_type": "code",
      "metadata": {
        "id": "4Ex2avqt15Iw",
        "colab": {
          "base_uri": "https://localhost:8080/"
        },
        "outputId": "6e3f2a70-b5b3-4df8-9351-8eca273e6183"
      },
      "source": [
        "print(\"df6\")\n",
        "print(df6)\n",
        "print(\"df7\")\n",
        "print(df7)\n",
        "print(\"pd.merge(df6, df7, how='left')\")\n",
        "print(pd.merge(df6, df7, how='left'))"
      ],
      "execution_count": 33,
      "outputs": [
        {
          "output_type": "stream",
          "name": "stdout",
          "text": [
            "df6\n",
            "    name    food\n",
            "0   John   water\n",
            "1  Katie  potato\n",
            "2  Linda   onion\n",
            "df7\n",
            "    name  drink\n",
            "0  Linda  juice\n",
            "1    Duo   milk\n",
            "pd.merge(df6, df7, how='left')\n",
            "    name    food  drink\n",
            "0   John   water    NaN\n",
            "1  Katie  potato    NaN\n",
            "2  Linda   onion  juice\n"
          ]
        }
      ]
    },
    {
      "cell_type": "markdown",
      "metadata": {
        "id": "8SGj5sYC2QhV"
      },
      "source": [
        "The result lines now correspond to the entries in the left of the input objects. The option how='right' works the same way. \n",
        "\n",
        "Sometimes there may be a case where two input objects have conflicting column names.\n"
      ]
    },
    {
      "cell_type": "code",
      "metadata": {
        "id": "ZwemGQ1u2lmD",
        "colab": {
          "base_uri": "https://localhost:8080/"
        },
        "outputId": "c3c51cd5-0a98-43da-9522-c5966a309875"
      },
      "source": [
        "df8 = pd.DataFrame({'name': ['Lucy', 'Ann', 'Steven', 'Alice'],\n",
        "                     'rank': [1, 2, 3, 4]})        \n",
        "df9 = pd.DataFrame({'name': ['Lucy', 'Ann', 'Steven', 'Alice'],\n",
        "                     'rank': [4, 1, 3, 2]})        \n",
        "print(\"df8\")\n",
        "print(df8)\n",
        "print(\"df9\")\n",
        "print(df9)\n",
        "print('pd.merge(df8, df9, on=\"name\")')\n",
        "print(pd.merge(df8, df9, on=\"name\"))"
      ],
      "execution_count": 34,
      "outputs": [
        {
          "output_type": "stream",
          "name": "stdout",
          "text": [
            "df8\n",
            "     name  rank\n",
            "0    Lucy     1\n",
            "1     Ann     2\n",
            "2  Steven     3\n",
            "3   Alice     4\n",
            "df9\n",
            "     name  rank\n",
            "0    Lucy     4\n",
            "1     Ann     1\n",
            "2  Steven     3\n",
            "3   Alice     2\n",
            "pd.merge(df8, df9, on=\"name\")\n",
            "     name  rank_x  rank_y\n",
            "0    Lucy       1       4\n",
            "1     Ann       2       1\n",
            "2  Steven       3       3\n",
            "3   Alice       4       2\n"
          ]
        }
      ]
    },
    {
      "cell_type": "markdown",
      "metadata": {
        "id": "6Z-kNRWh3SyN"
      },
      "source": [
        "Since the result should have two conflicting column names, the merge function automatically added the suffixes _x and _y to the names to ensure that the column names of the result are unique. \n",
        "\n",
        "You can also specify other suffixes using the \"suffixes\" keyword"
      ]
    },
    {
      "cell_type": "code",
      "metadata": {
        "id": "qasht2Wn3rjr",
        "colab": {
          "base_uri": "https://localhost:8080/"
        },
        "outputId": "c94c66f8-f3de-431a-ef32-8ddf751f12f6"
      },
      "source": [
        "print('df8')\n",
        "print(df8)\n",
        "print('df9')\n",
        "print(df9)\n",
        "print('pd.merge(df8, df9, on=\"name\", suffixes=[\"_L\", \"_R\"])')\n",
        "print(pd.merge(df8, df9, on=\"name\", suffixes=[\"_L\", \"_R\"]))"
      ],
      "execution_count": 35,
      "outputs": [
        {
          "output_type": "stream",
          "name": "stdout",
          "text": [
            "df8\n",
            "     name  rank\n",
            "0    Lucy     1\n",
            "1     Ann     2\n",
            "2  Steven     3\n",
            "3   Alice     4\n",
            "df9\n",
            "     name  rank\n",
            "0    Lucy     4\n",
            "1     Ann     1\n",
            "2  Steven     3\n",
            "3   Alice     2\n",
            "pd.merge(df8, df9, on=\"name\", suffixes=[\"_L\", \"_R\"])\n",
            "     name  rank_L  rank_R\n",
            "0    Lucy       1       4\n",
            "1     Ann       2       1\n",
            "2  Steven       3       3\n",
            "3   Alice       4       2\n"
          ]
        }
      ]
    },
    {
      "cell_type": "markdown",
      "metadata": {
        "id": "8aUnC-JW36ns"
      },
      "source": [
        "These suffixes will work for all possible connections, including multiple overlapping column names."
      ]
    }
  ]
}