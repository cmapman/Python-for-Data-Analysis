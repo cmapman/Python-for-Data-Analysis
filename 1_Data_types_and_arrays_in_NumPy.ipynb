{
  "nbformat": 4,
  "nbformat_minor": 0,
  "metadata": {
    "colab": {
      "name": "1 Data types and arrays in NumPy.ipynb",
      "provenance": [],
      "collapsed_sections": []
    },
    "kernelspec": {
      "display_name": "Python 3",
      "name": "python3"
    }
  },
  "cells": [
    {
      "cell_type": "markdown",
      "metadata": {
        "id": "8JaV95DZcN23"
      },
      "source": [
        "# Data types and arrays in NumPy"
      ]
    },
    {
      "cell_type": "markdown",
      "metadata": {
        "id": "YGKRTKtVcP8l"
      },
      "source": [
        "From: A.K."
      ]
    },
    {
      "cell_type": "markdown",
      "metadata": {
        "id": "YVGR8ovwcViF"
      },
      "source": [
        "##**Типы данных**"
      ]
    },
    {
      "cell_type": "markdown",
      "metadata": {
        "id": "daLzLddMcd0r"
      },
      "source": [
        "NumPy supports a greater variety of numeric types than pure Python. "
      ]
    },
    {
      "cell_type": "markdown",
      "metadata": {
        "id": "FPs-0ASO2hnd"
      },
      "source": [
        "All data types are listed in the sctypeDict dictionary as keys, to see all available data types you can run the following command:"
      ]
    },
    {
      "cell_type": "code",
      "metadata": {
        "id": "Ve_EMUOJ2jte",
        "colab": {
          "base_uri": "https://localhost:8080/"
        },
        "outputId": "0f958965-a5ad-435b-9cf1-6943461a8288"
      },
      "source": [
        "import numpy as np\n",
        "np.sctypeDict"
      ],
      "execution_count": 1,
      "outputs": [
        {
          "output_type": "execute_result",
          "data": {
            "text/plain": [
              "{0: numpy.bool_,\n",
              " 1: numpy.int8,\n",
              " 10: numpy.ulonglong,\n",
              " 11: numpy.float32,\n",
              " 12: numpy.float64,\n",
              " 13: numpy.float128,\n",
              " 14: numpy.complex64,\n",
              " 15: numpy.complex128,\n",
              " 16: numpy.complex256,\n",
              " 17: numpy.object_,\n",
              " 18: numpy.bytes_,\n",
              " 19: numpy.str_,\n",
              " 2: numpy.uint8,\n",
              " 20: numpy.void,\n",
              " 21: numpy.datetime64,\n",
              " 22: numpy.timedelta64,\n",
              " 23: numpy.float16,\n",
              " 3: numpy.int16,\n",
              " 4: numpy.uint16,\n",
              " 5: numpy.int32,\n",
              " 6: numpy.uint32,\n",
              " 7: numpy.int64,\n",
              " 8: numpy.uint64,\n",
              " 9: numpy.longlong,\n",
              " '?': numpy.bool_,\n",
              " 'B': numpy.uint8,\n",
              " 'Bytes0': numpy.bytes_,\n",
              " 'D': numpy.complex128,\n",
              " 'Datetime64': numpy.datetime64,\n",
              " 'F': numpy.complex64,\n",
              " 'G': numpy.complex256,\n",
              " 'H': numpy.uint16,\n",
              " 'I': numpy.uint32,\n",
              " 'L': numpy.uint64,\n",
              " 'M': numpy.datetime64,\n",
              " 'M8': numpy.datetime64,\n",
              " 'O': numpy.object_,\n",
              " 'P': numpy.uint64,\n",
              " 'Q': numpy.ulonglong,\n",
              " 'S': numpy.bytes_,\n",
              " 'Str0': numpy.str_,\n",
              " 'U': numpy.str_,\n",
              " 'Uint64': numpy.uint64,\n",
              " 'V': numpy.void,\n",
              " 'a': numpy.bytes_,\n",
              " 'b': numpy.int8,\n",
              " 'b1': numpy.bool_,\n",
              " 'bool': numpy.bool_,\n",
              " 'bool8': numpy.bool_,\n",
              " 'bool_': numpy.bool_,\n",
              " 'byte': numpy.int8,\n",
              " 'bytes': numpy.bytes_,\n",
              " 'bytes0': numpy.bytes_,\n",
              " 'bytes_': numpy.bytes_,\n",
              " 'c16': numpy.complex128,\n",
              " 'c32': numpy.complex256,\n",
              " 'c8': numpy.complex64,\n",
              " 'cdouble': numpy.complex128,\n",
              " 'cfloat': numpy.complex128,\n",
              " 'clongdouble': numpy.complex256,\n",
              " 'clongfloat': numpy.complex256,\n",
              " 'complex': numpy.complex128,\n",
              " 'complex128': numpy.complex128,\n",
              " 'complex256': numpy.complex256,\n",
              " 'complex64': numpy.complex64,\n",
              " 'complex_': numpy.complex128,\n",
              " 'csingle': numpy.complex64,\n",
              " 'd': numpy.float64,\n",
              " 'datetime64': numpy.datetime64,\n",
              " 'double': numpy.float64,\n",
              " 'e': numpy.float16,\n",
              " 'f': numpy.float32,\n",
              " 'f16': numpy.float128,\n",
              " 'f2': numpy.float16,\n",
              " 'f4': numpy.float32,\n",
              " 'f8': numpy.float64,\n",
              " 'float': numpy.float64,\n",
              " 'float128': numpy.float128,\n",
              " 'float16': numpy.float16,\n",
              " 'float32': numpy.float32,\n",
              " 'float64': numpy.float64,\n",
              " 'float_': numpy.float64,\n",
              " 'g': numpy.float128,\n",
              " 'h': numpy.int16,\n",
              " 'half': numpy.float16,\n",
              " 'i': numpy.int32,\n",
              " 'i1': numpy.int8,\n",
              " 'i2': numpy.int16,\n",
              " 'i4': numpy.int32,\n",
              " 'i8': numpy.int64,\n",
              " 'int': numpy.int64,\n",
              " 'int0': numpy.int64,\n",
              " 'int16': numpy.int16,\n",
              " 'int32': numpy.int32,\n",
              " 'int64': numpy.int64,\n",
              " 'int8': numpy.int8,\n",
              " 'int_': numpy.int64,\n",
              " 'intc': numpy.int32,\n",
              " 'intp': numpy.int64,\n",
              " 'l': numpy.int64,\n",
              " 'long': numpy.int64,\n",
              " 'longcomplex': numpy.complex256,\n",
              " 'longdouble': numpy.float128,\n",
              " 'longfloat': numpy.float128,\n",
              " 'longlong': numpy.longlong,\n",
              " 'm': numpy.timedelta64,\n",
              " 'm8': numpy.timedelta64,\n",
              " 'object': numpy.object_,\n",
              " 'object0': numpy.object_,\n",
              " 'object_': numpy.object_,\n",
              " 'p': numpy.int64,\n",
              " 'q': numpy.longlong,\n",
              " 'short': numpy.int16,\n",
              " 'single': numpy.float32,\n",
              " 'singlecomplex': numpy.complex64,\n",
              " 'str': numpy.str_,\n",
              " 'str0': numpy.str_,\n",
              " 'str_': numpy.str_,\n",
              " 'string_': numpy.bytes_,\n",
              " 'timedelta64': numpy.timedelta64,\n",
              " 'u1': numpy.uint8,\n",
              " 'u2': numpy.uint16,\n",
              " 'u4': numpy.uint32,\n",
              " 'u8': numpy.uint64,\n",
              " 'ubyte': numpy.uint8,\n",
              " 'uint': numpy.uint64,\n",
              " 'uint0': numpy.uint64,\n",
              " 'uint16': numpy.uint16,\n",
              " 'uint32': numpy.uint32,\n",
              " 'uint64': numpy.uint64,\n",
              " 'uint8': numpy.uint8,\n",
              " 'uintc': numpy.uint32,\n",
              " 'uintp': numpy.uint64,\n",
              " 'ulonglong': numpy.ulonglong,\n",
              " 'unicode': numpy.str_,\n",
              " 'unicode_': numpy.str_,\n",
              " 'ushort': numpy.uint16,\n",
              " 'void': numpy.void,\n",
              " 'void0': numpy.void}"
            ]
          },
          "metadata": {},
          "execution_count": 1
        }
      ]
    },
    {
      "cell_type": "markdown",
      "metadata": {
        "id": "DFr7v1R8nMbZ"
      },
      "source": [
        "###**Объекты dtype**"
      ]
    },
    {
      "cell_type": "markdown",
      "metadata": {
        "id": "aD7Vw0evdijl"
      },
      "source": [
        "\n",
        "\n",
        "> 1. bool_ : A logical type (true or false) stored as a byte.\n",
        "\n"
      ]
    },
    {
      "cell_type": "code",
      "metadata": {
        "id": "QktCY1-2doB-",
        "cellView": "both",
        "colab": {
          "base_uri": "https://localhost:8080/"
        },
        "outputId": "e914f132-a829-4f67-8f52-171eb0e13658"
      },
      "source": [
        "import numpy as np\n",
        "bool(10)"
      ],
      "execution_count": 3,
      "outputs": [
        {
          "output_type": "execute_result",
          "data": {
            "text/plain": [
              "True"
            ]
          },
          "metadata": {},
          "execution_count": 3
        }
      ]
    },
    {
      "cell_type": "code",
      "metadata": {
        "id": "S3LXU9bszByG",
        "colab": {
          "base_uri": "https://localhost:8080/"
        },
        "outputId": "481885fb-582b-421e-d777-292980ea0169"
      },
      "source": [
        "import numpy as np\n",
        "bool(0)"
      ],
      "execution_count": 4,
      "outputs": [
        {
          "output_type": "execute_result",
          "data": {
            "text/plain": [
              "False"
            ]
          },
          "metadata": {},
          "execution_count": 4
        }
      ]
    },
    {
      "cell_type": "markdown",
      "metadata": {
        "id": "6nVocuh3evMo"
      },
      "source": [
        "\n",
        "\n",
        "> 2. int_ : The default integer type (the same as C long, usually either int64 or int32)\n",
        " * intc : Identical to C int (int32 or int64).\n",
        " * intp : Integer type used for indexing (same as C ssize_t, usually either int64 or int32).\n",
        " * int8 : Integer numbers in the range -128 to 127 (numbers of size 1 byte).\n",
        " * int16 : Integer numbers in the range -32768 to 32767, (2-byte numbers).\n",
        " * int32 : Integer numbers in the range -2147483648 to 2147483647, (numbers of size 4 bytes).\n",
        " * int64 : Integer numbers in the range -9223372036854775808 to 9223372036854775807, (numbers of size 8 bytes).\n",
        " * uint8 : Integer numbers in the range 0 to 255 (numbers of size 1 byte).\n",
        " * uint16 : Integer numbers between 0 and 65535 (2-byte numbers).\n",
        " * uint32 : Integer numbers in the range 0 to 4294967295 (4-byte numbers).\n",
        " * uint64 : Integer numbers in the range 0 to 18446744073709551615 (numbers of size 8 bytes).\n",
        "\n",
        "\n",
        "\n",
        "\n"
      ]
    },
    {
      "cell_type": "code",
      "metadata": {
        "id": "96eCjOwmzJVL",
        "colab": {
          "base_uri": "https://localhost:8080/"
        },
        "outputId": "e5077fb3-1124-4d7e-9fea-df4b6c3e93ae"
      },
      "source": [
        "np.int64(11)"
      ],
      "execution_count": 7,
      "outputs": [
        {
          "output_type": "execute_result",
          "data": {
            "text/plain": [
              "11"
            ]
          },
          "metadata": {},
          "execution_count": 7
        }
      ]
    },
    {
      "cell_type": "code",
      "metadata": {
        "id": "J0n0CG3tzRmp",
        "colab": {
          "base_uri": "https://localhost:8080/"
        },
        "outputId": "0c4a5ae8-b12d-47dd-ff2b-016cce6b5d65"
      },
      "source": [
        "np.int32(True)"
      ],
      "execution_count": 8,
      "outputs": [
        {
          "output_type": "execute_result",
          "data": {
            "text/plain": [
              "1"
            ]
          },
          "metadata": {},
          "execution_count": 8
        }
      ]
    },
    {
      "cell_type": "markdown",
      "metadata": {
        "id": "npYvkZl4zGRy"
      },
      "source": [
        "\n",
        "\n",
        "> 3. float_ : \n",
        " * Float16 : Half-precision real numbers: 1 bit of sign, 5 bits of exponent, 10 bits of mantissa (2-byte numbers).\n",
        " * Float32 : Single-precision real numbers: 1 bit sign, 8 bits exponent, 23 bits mantissa (4-byte numbers).\n",
        " * Float64 : Double-precision real numbers: 1 bit sign, 11 bits exponent, 52 bits mantissa (numbers of size 8 bytes).\n",
        "\n"
      ]
    },
    {
      "cell_type": "code",
      "metadata": {
        "id": "jOsRaKibz52b",
        "colab": {
          "base_uri": "https://localhost:8080/"
        },
        "outputId": "fbc4ccf1-c88b-450d-fae3-1912a0ca376c"
      },
      "source": [
        "np.float64(4567)"
      ],
      "execution_count": 9,
      "outputs": [
        {
          "output_type": "execute_result",
          "data": {
            "text/plain": [
              "4567.0"
            ]
          },
          "metadata": {},
          "execution_count": 9
        }
      ]
    },
    {
      "cell_type": "code",
      "metadata": {
        "id": "JfIZwA4k0HiV",
        "colab": {
          "base_uri": "https://localhost:8080/"
        },
        "outputId": "4ee79d85-abe3-42f3-cc03-d72e01bde214"
      },
      "source": [
        "np.float64(False)"
      ],
      "execution_count": 10,
      "outputs": [
        {
          "output_type": "execute_result",
          "data": {
            "text/plain": [
              "0.0"
            ]
          },
          "metadata": {},
          "execution_count": 10
        }
      ]
    },
    {
      "cell_type": "markdown",
      "metadata": {
        "id": "CxbtF12t0NMi"
      },
      "source": [
        "\n",
        "\n",
        "> 4. complex_ :\n",
        " * complex64 : Complex numbers in which the real and imaginary parts are represented by two real numbers of type float32.\n",
        " * complex128 : Complex numbers in which the real and imaginary parts are represented by two real numbers of type float64.\n",
        "\n"
      ]
    },
    {
      "cell_type": "code",
      "metadata": {
        "id": "7KIyzcKx1dU-",
        "colab": {
          "base_uri": "https://localhost:8080/"
        },
        "outputId": "f889e68d-e9c2-4a34-d44b-3e8798866487"
      },
      "source": [
        "np.complex64(239)"
      ],
      "execution_count": 11,
      "outputs": [
        {
          "output_type": "execute_result",
          "data": {
            "text/plain": [
              "(239+0j)"
            ]
          },
          "metadata": {},
          "execution_count": 11
        }
      ]
    },
    {
      "cell_type": "markdown",
      "metadata": {
        "id": "8re7L9yR2C6E"
      },
      "source": [
        "###**Additional functions**"
      ]
    },
    {
      "cell_type": "markdown",
      "metadata": {
        "id": "RgRYtbA4oJFQ"
      },
      "source": [
        "\n",
        "\n",
        "> Many functions in NumPy take the data type as an optional argument:\n",
        "\n"
      ]
    },
    {
      "cell_type": "code",
      "metadata": {
        "id": "UvAwB3uDoKu_",
        "colab": {
          "base_uri": "https://localhost:8080/"
        },
        "outputId": "8fb880f0-6d04-491e-b126-4f42ec06ce05"
      },
      "source": [
        "import numpy as np\n",
        "a = np.arange(5, dtype = np.int64)\n",
        "a"
      ],
      "execution_count": 13,
      "outputs": [
        {
          "output_type": "execute_result",
          "data": {
            "text/plain": [
              "array([0, 1, 2, 3, 4])"
            ]
          },
          "metadata": {},
          "execution_count": 13
        }
      ]
    },
    {
      "cell_type": "markdown",
      "metadata": {
        "id": "vOpOlBODn2Po"
      },
      "source": [
        "\n",
        "\n",
        "> If you need information about a particular type of floating-point number, you can query it using finfo():\n"
      ]
    },
    {
      "cell_type": "code",
      "metadata": {
        "id": "ZFxbii_sn7VI",
        "colab": {
          "base_uri": "https://localhost:8080/"
        },
        "outputId": "31801800-4380-4c14-aa75-28b94d3dd0d0"
      },
      "source": [
        "np.finfo(np.float64)"
      ],
      "execution_count": 14,
      "outputs": [
        {
          "output_type": "execute_result",
          "data": {
            "text/plain": [
              "finfo(resolution=1e-15, min=-1.7976931348623157e+308, max=1.7976931348623157e+308, dtype=float64)"
            ]
          },
          "metadata": {},
          "execution_count": 14
        }
      ]
    },
    {
      "cell_type": "markdown",
      "metadata": {
        "id": "99JgSQAwo4i4"
      },
      "source": [
        "##**NumPy arrays**"
      ]
    },
    {
      "cell_type": "markdown",
      "metadata": {
        "id": "PqkE_oOUpxZB"
      },
      "source": [
        "###**One-dimensional arrays**"
      ]
    },
    {
      "cell_type": "markdown",
      "metadata": {
        "id": "AO8ccfNFo9nf"
      },
      "source": [
        "The main NumPy object is a homogeneous multidimensional array. Most often it is a one-dimensional sequence or a two-dimensional table, filled with elements of the same type, usually numbers, which are indexed by a tuple of positive integers. In NumPy, the elements of this tuple are called axes, and the number of axes the rank."
      ]
    },
    {
      "cell_type": "markdown",
      "source": [
        "There are several ways to create an array, the simplest is to enter the array values manually:"
      ],
      "metadata": {
        "id": "BriNz0r10ehy"
      }
    },
    {
      "cell_type": "code",
      "source": [
        "a = np.array([[1, 2, 4], [5, 8, 7]], dtype = 'int_')\n",
        "print(a)"
      ],
      "metadata": {
        "colab": {
          "base_uri": "https://localhost:8080/"
        },
        "id": "NdpRonlv0kaK",
        "outputId": "6d965ac3-fa9b-4dcf-d4dd-136dff831416"
      },
      "execution_count": 15,
      "outputs": [
        {
          "output_type": "stream",
          "name": "stdout",
          "text": [
            "[[1 2 4]\n",
            " [5 8 7]]\n"
          ]
        }
      ]
    },
    {
      "cell_type": "code",
      "source": [
        "b= np.array([[[0,1,2],[0,1,2]],[[3,4,5],[3,4,5]],[[6,7,8],[6,7,8]]], dtype= 'complex')\n",
        "print(b)"
      ],
      "metadata": {
        "colab": {
          "base_uri": "https://localhost:8080/"
        },
        "id": "Jfwnv_dV0lB4",
        "outputId": "0aca0e2e-0cf6-4463-d93c-730ebf2b873a"
      },
      "execution_count": 16,
      "outputs": [
        {
          "output_type": "stream",
          "name": "stdout",
          "text": [
            "[[[0.+0.j 1.+0.j 2.+0.j]\n",
            "  [0.+0.j 1.+0.j 2.+0.j]]\n",
            "\n",
            " [[3.+0.j 4.+0.j 5.+0.j]\n",
            "  [3.+0.j 4.+0.j 5.+0.j]]\n",
            "\n",
            " [[6.+0.j 7.+0.j 8.+0.j]\n",
            "  [6.+0.j 7.+0.j 8.+0.j]]]\n"
          ]
        }
      ]
    },
    {
      "cell_type": "markdown",
      "source": [
        "If you know the size of the array, but don't know the elements, then use the arrange function: it returns uniformly distributed values in a given interval, the step size can also be specified:"
      ],
      "metadata": {
        "id": "kjvNHi3207gz"
      }
    },
    {
      "cell_type": "code",
      "source": [
        "arr = np.arange(24).reshape(2, 3, 4) # reshape- is the shape of an array\n",
        "print(arr)"
      ],
      "metadata": {
        "colab": {
          "base_uri": "https://localhost:8080/"
        },
        "id": "fOQdQms508Gp",
        "outputId": "0dc0662c-2e5d-4698-fbbf-b88cdcd0e7d4"
      },
      "execution_count": 17,
      "outputs": [
        {
          "output_type": "stream",
          "name": "stdout",
          "text": [
            "[[[ 0  1  2  3]\n",
            "  [ 4  5  6  7]\n",
            "  [ 8  9 10 11]]\n",
            "\n",
            " [[12 13 14 15]\n",
            "  [16 17 18 19]\n",
            "  [20 21 22 23]]]\n"
          ]
        }
      ]
    },
    {
      "cell_type": "markdown",
      "source": [
        "Below are the basic methods of creating arrays:"
      ],
      "metadata": {
        "id": "EzwwRzBD1eHS"
      }
    },
    {
      "cell_type": "code",
      "source": [
        "arr1= np.array([[6,0,6],[0,6,0]], dtype='float64')  # Manual array creation\n",
        "\n",
        "arr2= np.zeros((3,3)) # Creating a 3x3 array filled with 0\n",
        "\n",
        "arr3= np.ones((3,3), dtype = 'int') # creating a 3x3 array filled with 1\n",
        "\n",
        "arr4= np.random.random((2,4)) # Creating a 2x4 array filled with random numbers\n",
        "\n",
        "arr5= np.linspace(1,20, num=10) # Creating an array where the data is distributed by size\n",
        "\n",
        "print('1)\\n',arr1,'\\n\\n2)\\n',arr2,'\\n\\n3)\\n',arr3,'\\n\\n4)\\n',arr4,'\\n\\n5)\\n',arr5)\n"
      ],
      "metadata": {
        "colab": {
          "base_uri": "https://localhost:8080/"
        },
        "id": "RNcRIfDq1sOt",
        "outputId": "6f31000b-9719-4d3a-e68c-3ac1443b9e8a"
      },
      "execution_count": 21,
      "outputs": [
        {
          "output_type": "stream",
          "name": "stdout",
          "text": [
            "1)\n",
            " [[6. 0. 6.]\n",
            " [0. 6. 0.]] \n",
            "\n",
            "2)\n",
            " [[0. 0. 0.]\n",
            " [0. 0. 0.]\n",
            " [0. 0. 0.]] \n",
            "\n",
            "3)\n",
            " [[1 1 1]\n",
            " [1 1 1]\n",
            " [1 1 1]] \n",
            "\n",
            "4)\n",
            " [[0.43454804 0.36837081 0.18579642 0.91990114]\n",
            " [0.8756117  0.9784639  0.70771459 0.86849503]] \n",
            "\n",
            "5)\n",
            " [ 1.          3.11111111  5.22222222  7.33333333  9.44444444 11.55555556\n",
            " 13.66666667 15.77777778 17.88888889 20.        ]\n"
          ]
        }
      ]
    },
    {
      "cell_type": "markdown",
      "metadata": {
        "id": "PQKMRmWcpd8C"
      },
      "source": [
        "###**Two-dimensional arrays**"
      ]
    },
    {
      "cell_type": "markdown",
      "metadata": {
        "id": "Qe6V-FO-qQG-"
      },
      "source": [
        "We can create an array using the np.arange() function, which is much like the range() function in Python. Then, we can change the shape of the array with the reshape() method:"
      ]
    },
    {
      "cell_type": "code",
      "metadata": {
        "id": "ef3vpnxkqbJk",
        "colab": {
          "base_uri": "https://localhost:8080/"
        },
        "outputId": "b7a130d0-2342-4066-b333-c9e25b282791"
      },
      "source": [
        "a = np.arange(12)\n",
        "a\n",
        "a=a.reshape(3,4)\n",
        "a"
      ],
      "execution_count": 22,
      "outputs": [
        {
          "output_type": "execute_result",
          "data": {
            "text/plain": [
              "array([[ 0,  1,  2,  3],\n",
              "       [ 4,  5,  6,  7],\n",
              "       [ 8,  9, 10, 11]])"
            ]
          },
          "metadata": {},
          "execution_count": 22
        }
      ]
    },
    {
      "cell_type": "code",
      "metadata": {
        "id": "FHUOhjy4qyZs",
        "colab": {
          "base_uri": "https://localhost:8080/"
        },
        "outputId": "874b1f6b-2471-449f-f4ca-ee77ea66eb18"
      },
      "source": [
        "# or we can do it like this\n",
        "b = np.arange(12).reshape(3, 4)\n",
        "b"
      ],
      "execution_count": 23,
      "outputs": [
        {
          "output_type": "execute_result",
          "data": {
            "text/plain": [
              "array([[ 0,  1,  2,  3],\n",
              "       [ 4,  5,  6,  7],\n",
              "       [ 8,  9, 10, 11]])"
            ]
          },
          "metadata": {},
          "execution_count": 23
        }
      ]
    },
    {
      "cell_type": "markdown",
      "metadata": {
        "id": "Xm5_f-IRq7eP"
      },
      "source": [
        "The first axis (and index, respectively) are rows, the second axis are columns."
      ]
    },
    {
      "cell_type": "markdown",
      "metadata": {
        "id": "6aBJdA6qrAos"
      },
      "source": [
        "###**Three-dimensional arrays**"
      ]
    },
    {
      "cell_type": "markdown",
      "metadata": {
        "id": "VY0j1Sn1rFgc"
      },
      "source": [
        "In fact, the real world is not at all limited to tables, vectors and matrices. There are also tensors, quaternions, and octaves. And it is more convenient to represent some data exactly in three- and four-dimensional representation."
      ]
    },
    {
      "cell_type": "code",
      "metadata": {
        "id": "mkbS3GcYrXgF",
        "colab": {
          "base_uri": "https://localhost:8080/"
        },
        "outputId": "9b3c4457-2617-41ea-8fb4-4ff2d2055dca"
      },
      "source": [
        "a = np.arange(48).reshape(4, 3, 4)\n",
        "a"
      ],
      "execution_count": 24,
      "outputs": [
        {
          "output_type": "execute_result",
          "data": {
            "text/plain": [
              "array([[[ 0,  1,  2,  3],\n",
              "        [ 4,  5,  6,  7],\n",
              "        [ 8,  9, 10, 11]],\n",
              "\n",
              "       [[12, 13, 14, 15],\n",
              "        [16, 17, 18, 19],\n",
              "        [20, 21, 22, 23]],\n",
              "\n",
              "       [[24, 25, 26, 27],\n",
              "        [28, 29, 30, 31],\n",
              "        [32, 33, 34, 35]],\n",
              "\n",
              "       [[36, 37, 38, 39],\n",
              "        [40, 41, 42, 43],\n",
              "        [44, 45, 46, 47]]])"
            ]
          },
          "metadata": {},
          "execution_count": 24
        }
      ]
    },
    {
      "cell_type": "markdown",
      "source": [
        "# NumPy array attributes"
      ],
      "metadata": {
        "id": "duSMMeDv1FZ7"
      }
    },
    {
      "cell_type": "markdown",
      "source": [
        "Often when working with arrays, you need to get information about the size of the array, the size of the elements or for example data types. The attributes of arrays are shown below:"
      ],
      "metadata": {
        "id": "5ta0J1qD1H_C"
      }
    },
    {
      "cell_type": "code",
      "source": [
        "a= np.array([[0,1,2],[3,4,5]])\n",
        "print(a)\n",
        "print(\"a.ndim - returns the number of array dimensions => \",a.ndim)\n",
        "print(\"a.shape - returns tuple of array size => \",a.shape)\n",
        "print(\"a.size - returns total number of array elements => \",a.size)\n",
        "print(\"a.dtype - shows type of array items => \",a.dtype)\n",
        "print(\"a.itemsize - returns the size of each item => \",a.itemsize)\n",
        "print(\"a.sum - returns sum of array items => \",a.sum())\n",
        "print(\"a.min - returns minimal element => \",a.min())\n",
        "print(\"a.max - returns maximal element => \",a.max())"
      ],
      "metadata": {
        "colab": {
          "base_uri": "https://localhost:8080/"
        },
        "id": "9YAjTR7I1N1S",
        "outputId": "7a079223-5f06-40ed-a9c3-f445d4aa42d6"
      },
      "execution_count": 29,
      "outputs": [
        {
          "output_type": "stream",
          "name": "stdout",
          "text": [
            "[[0 1 2]\n",
            " [3 4 5]]\n",
            "a.ndim - returns the number of array dimensions =>  2\n",
            "a.shape - returns tuple of array size =>  (2, 3)\n",
            "a.size - returns total number of array elements =>  6\n",
            "a.dtype - shows type of array items =>  int64\n",
            "a.itemsize - returns the size of each item =>  8\n",
            "a.sum - returns sum of array items =>  15\n",
            "a.min - returns minimal element =>  0\n",
            "a.max - returns maximal element =>  5\n"
          ]
        }
      ]
    },
    {
      "cell_type": "markdown",
      "metadata": {
        "id": "KOzHgv_V3LUN"
      },
      "source": [
        "\n",
        "\n",
        "> \n",
        "\n"
      ]
    }
  ]
}